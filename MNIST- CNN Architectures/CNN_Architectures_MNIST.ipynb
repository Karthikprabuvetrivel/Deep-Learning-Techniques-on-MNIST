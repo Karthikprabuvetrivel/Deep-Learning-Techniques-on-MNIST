{
  "nbformat": 4,
  "nbformat_minor": 0,
  "metadata": {
    "colab": {
      "name": "CNN Architectures - MNIST.ipynb",
      "version": "0.3.2",
      "provenance": [],
      "collapsed_sections": []
    },
    "kernelspec": {
      "name": "python3",
      "display_name": "Python 3"
    }
  },
  "cells": [
    {
      "cell_type": "markdown",
      "metadata": {
        "id": "9xRHynrRqki_",
        "colab_type": "text"
      },
      "source": [
        "# CNN- Architecture using MNIST Dataset"
      ]
    },
    {
      "cell_type": "markdown",
      "metadata": {
        "id": "uqGbQZMNqtsE",
        "colab_type": "text"
      },
      "source": [
        "## **1. Objective :**\n",
        "\n",
        "                        To build a Different type of CNN Architecture."
      ]
    },
    {
      "cell_type": "markdown",
      "metadata": {
        "id": "nzZ9uPDaq6KN",
        "colab_type": "text"
      },
      "source": [
        "## **2. Dataset :**"
      ]
    },
    {
      "cell_type": "code",
      "metadata": {
        "id": "ktmnW0BEq67P",
        "colab_type": "code",
        "colab": {}
      },
      "source": [
        "import numpy as np\n",
        "import matplotlib.pyplot as plt\n",
        "import seaborn as sns\n",
        "import pandas as pd\n",
        "import warnings\n",
        "warnings.filterwarnings(\"ignore\")"
      ],
      "execution_count": 0,
      "outputs": []
    },
    {
      "cell_type": "code",
      "metadata": {
        "id": "7-iE28SUrQQX",
        "colab_type": "code",
        "outputId": "4085fb52-e372-41d6-cb95-9f9f6e2c2f08",
        "colab": {
          "base_uri": "https://localhost:8080/",
          "height": 34
        }
      },
      "source": [
        "# References \n",
        "# https://keras.io/datasets/\n",
        "\n",
        "from keras.datasets import mnist"
      ],
      "execution_count": 2,
      "outputs": [
        {
          "output_type": "stream",
          "text": [
            "Using TensorFlow backend.\n"
          ],
          "name": "stderr"
        }
      ]
    },
    {
      "cell_type": "code",
      "metadata": {
        "id": "m9zDMR3UrVMO",
        "colab_type": "code",
        "colab": {
          "base_uri": "https://localhost:8080/",
          "height": 51
        },
        "outputId": "2ded9d3d-75d5-4581-be87-9113c7381727"
      },
      "source": [
        "# mnist dataset for train and test\n",
        "\n",
        "(x_train, y_train), (x_test, y_test) = mnist.load_data()"
      ],
      "execution_count": 3,
      "outputs": [
        {
          "output_type": "stream",
          "text": [
            "Downloading data from https://s3.amazonaws.com/img-datasets/mnist.npz\n",
            "11493376/11490434 [==============================] - 0s 0us/step\n"
          ],
          "name": "stdout"
        }
      ]
    },
    {
      "cell_type": "code",
      "metadata": {
        "id": "ky6Zwy-xrYKf",
        "colab_type": "code",
        "outputId": "2169929a-11d5-4a38-a3e3-2aaed08bf06f",
        "colab": {
          "base_uri": "https://localhost:8080/",
          "height": 221
        }
      },
      "source": [
        "# Shape of the data \n",
        "\n",
        "print(\"training features shape\")\n",
        "print(\"=\"*100)\n",
        "print(x_train.shape)\n",
        "print('training label shape')\n",
        "print(\"=\"*100)\n",
        "print(y_train.shape)\n",
        "print(\"testing features shape\")\n",
        "print(\"=\"*100)\n",
        "print(x_test.shape)\n",
        "print(\"testing label shape\")\n",
        "print(\"=\"*100)\n",
        "print(y_test.shape)"
      ],
      "execution_count": 4,
      "outputs": [
        {
          "output_type": "stream",
          "text": [
            "training features shape\n",
            "====================================================================================================\n",
            "(60000, 28, 28)\n",
            "training label shape\n",
            "====================================================================================================\n",
            "(60000,)\n",
            "testing features shape\n",
            "====================================================================================================\n",
            "(10000, 28, 28)\n",
            "testing label shape\n",
            "====================================================================================================\n",
            "(10000,)\n"
          ],
          "name": "stdout"
        }
      ]
    },
    {
      "cell_type": "code",
      "metadata": {
        "id": "XAnLGz9FraX_",
        "colab_type": "code",
        "outputId": "8938aa63-3df3-4158-f79c-a6377060eb2c",
        "colab": {
          "base_uri": "https://localhost:8080/",
          "height": 286
        }
      },
      "source": [
        "# Image data \n",
        "\n",
        "plt.close()\n",
        "plt.imshow(x_train[0])"
      ],
      "execution_count": 5,
      "outputs": [
        {
          "output_type": "execute_result",
          "data": {
            "text/plain": [
              "<matplotlib.image.AxesImage at 0x7fccd5c480b8>"
            ]
          },
          "metadata": {
            "tags": []
          },
          "execution_count": 5
        },
        {
          "output_type": "display_data",
          "data": {
            "image/png": "[encoded data removed]",
            "text/plain": [
              "<Figure size 432x288 with 1 Axes>"
            ]
          },
          "metadata": {
            "tags": []
          }
        }
      ]
    },
    {
      "cell_type": "code",
      "metadata": {
        "id": "j4KgogElrdUw",
        "colab_type": "code",
        "outputId": "3b8b6d01-30e5-4e3c-a247-37d7dfb6cc9c",
        "colab": {
          "base_uri": "https://localhost:8080/",
          "height": 34
        }
      },
      "source": [
        "print(\"The Number is\",y_train[0])"
      ],
      "execution_count": 6,
      "outputs": [
        {
          "output_type": "stream",
          "text": [
            "The Number is 5\n"
          ],
          "name": "stdout"
        }
      ]
    },
    {
      "cell_type": "code",
      "metadata": {
        "id": "JJpuZDqsrfZA",
        "colab_type": "code",
        "colab": {}
      },
      "source": [
        "# References\n",
        "# https://keras.io/examples/mnist_cnn/\n",
        "\n",
        "from keras import backend as K"
      ],
      "execution_count": 0,
      "outputs": []
    },
    {
      "cell_type": "code",
      "metadata": {
        "id": "zziA3diYshJs",
        "colab_type": "code",
        "colab": {}
      },
      "source": [
        "img_rows=28\n",
        "img_cols=28\n",
        "\n",
        "if K.image_data_format() == 'channels_first':\n",
        "    x_train = x_train.reshape(x_train.shape[0], 1, img_rows, img_cols)\n",
        "    x_test = x_test.reshape(x_test.shape[0], 1, img_rows, img_cols)\n",
        "    input_shape = (1, img_rows, img_cols)\n",
        "else:\n",
        "    x_train = x_train.reshape(x_train.shape[0], img_rows, img_cols, 1)\n",
        "    x_test = x_test.reshape(x_test.shape[0], img_rows, img_cols, 1)\n",
        "    input_shape = (img_rows, img_cols, 1)"
      ],
      "execution_count": 0,
      "outputs": []
    },
    {
      "cell_type": "code",
      "metadata": {
        "id": "BbWnAExlsxSq",
        "colab_type": "code",
        "outputId": "e98f57f9-0c24-4bd4-b1e1-59031582f49a",
        "colab": {
          "base_uri": "https://localhost:8080/",
          "height": 68
        }
      },
      "source": [
        "x_train = x_train.astype('float32')\n",
        "x_test = x_test.astype('float32')\n",
        "print('x_train shape:', x_train.shape)\n",
        "print(x_train.shape[0], 'train samples')\n",
        "print(x_test.shape[0], 'test samples')"
      ],
      "execution_count": 9,
      "outputs": [
        {
          "output_type": "stream",
          "text": [
            "x_train shape: (60000, 28, 28, 1)\n",
            "60000 train samples\n",
            "10000 test samples\n"
          ],
          "name": "stdout"
        }
      ]
    },
    {
      "cell_type": "code",
      "metadata": {
        "id": "6vjqVorctALY",
        "colab_type": "code",
        "outputId": "9424d17f-50ab-42d8-e6ed-dd6b5d11787e",
        "colab": {
          "base_uri": "https://localhost:8080/",
          "height": 68
        }
      },
      "source": [
        "# Labels in Mnist dataset\n",
        "labels=set(y_train)\n",
        "\n",
        "print(\"Mnist dataset labels\")\n",
        "print(\"=\"*100)\n",
        "print(labels)"
      ],
      "execution_count": 10,
      "outputs": [
        {
          "output_type": "stream",
          "text": [
            "Mnist dataset labels\n",
            "====================================================================================================\n",
            "{0, 1, 2, 3, 4, 5, 6, 7, 8, 9}\n"
          ],
          "name": "stdout"
        }
      ]
    },
    {
      "cell_type": "code",
      "metadata": {
        "id": "4hz-E_GBtrh4",
        "colab_type": "code",
        "colab": {}
      },
      "source": [
        "# Converting categorical Feature into one- hot encoding\n",
        "\n",
        "# References\n",
        "# https://keras.io/utils/\n",
        "\n",
        "from keras.utils import np_utils"
      ],
      "execution_count": 0,
      "outputs": []
    },
    {
      "cell_type": "code",
      "metadata": {
        "id": "Rs5mUao9tuSl",
        "colab_type": "code",
        "outputId": "c2d174ff-767b-4641-f1d4-97ddc45f3511",
        "colab": {
          "base_uri": "https://localhost:8080/",
          "height": 119
        }
      },
      "source": [
        "Y_train = np_utils.to_categorical(y_train,10)\n",
        "Y_test = np_utils.to_categorical(y_test,10)\n",
        "\n",
        "print(\"Before one-hot encoding\")\n",
        "print(\"=\"*100)\n",
        "print(y_train.shape)\n",
        "print(\"After one-hot encoding\")\n",
        "print(\"=\"*100)\n",
        "print(Y_train.shape)"
      ],
      "execution_count": 12,
      "outputs": [
        {
          "output_type": "stream",
          "text": [
            "Before one-hot encoding\n",
            "====================================================================================================\n",
            "(60000,)\n",
            "After one-hot encoding\n",
            "====================================================================================================\n",
            "(60000, 10)\n"
          ],
          "name": "stdout"
        }
      ]
    },
    {
      "cell_type": "markdown",
      "metadata": {
        "id": "gnPv_oJpt6VR",
        "colab_type": "text"
      },
      "source": [
        "## **3. Data Normalization :**\n",
        "\n",
        "  In this Mnist Image dataset only contains pixels values. The pixel range is 0 to 255. So we apply the Data Normalization.\n",
        "                                                       \n",
        "                         "
      ]
    },
    {
      "cell_type": "markdown",
      "metadata": {
        "id": "l9_QhmFXt_wc",
        "colab_type": "text"
      },
      "source": [
        "Data Normalization= $(X - X_a)/(X_b - X_a)$ \n",
        " Where \n",
        " $ X_a$=minimum value of the data \n",
        " $X_b$=Maximum value of the data"
      ]
    },
    {
      "cell_type": "code",
      "metadata": {
        "id": "wbwbL3KmuAre",
        "colab_type": "code",
        "colab": {}
      },
      "source": [
        "X_train = x_train/255\n",
        "X_test = x_test/255"
      ],
      "execution_count": 0,
      "outputs": []
    },
    {
      "cell_type": "markdown",
      "metadata": {
        "id": "WNpjd5BmuyWk",
        "colab_type": "text"
      },
      "source": [
        "## **4. CNN Architectures:**"
      ]
    },
    {
      "cell_type": "markdown",
      "metadata": {
        "id": "CuPbgcsIvopU",
        "colab_type": "text"
      },
      "source": [
        "### **4.1.  Three ConvNet Layers  followed by MLP :** "
      ]
    },
    {
      "cell_type": "code",
      "metadata": {
        "id": "oBua6Mo2uG7v",
        "colab_type": "code",
        "colab": {}
      },
      "source": [
        "# References\n",
        "# https://keras.io/layers/\n",
        "\n",
        "from keras.models import Sequential\n",
        "from keras.layers import Conv2D,MaxPooling2D,Dense,Dropout,BatchNormalization,Flatten\n",
        "from keras.initializers import glorot_normal"
      ],
      "execution_count": 0,
      "outputs": []
    },
    {
      "cell_type": "code",
      "metadata": {
        "id": "il0kxQwQw8AG",
        "colab_type": "code",
        "colab": {}
      },
      "source": [
        "# https://github.com/h5py/h5py/issues/961\n",
        "\n",
        "import warnings\n",
        "warnings.simplefilter(action='ignore', category=FutureWarning)"
      ],
      "execution_count": 0,
      "outputs": []
    },
    {
      "cell_type": "markdown",
      "metadata": {
        "id": "weNH7vT6_1MZ",
        "colab_type": "text"
      },
      "source": [
        "#### 4.1.1 **Sequence Model :**"
      ]
    },
    {
      "cell_type": "code",
      "metadata": {
        "id": "d4abS5XOw_MM",
        "colab_type": "code",
        "outputId": "9b62bd10-c813-4f3b-ef46-034766cc304d",
        "colab": {
          "base_uri": "https://localhost:8080/",
          "height": 88
        }
      },
      "source": [
        "# References\n",
        "# https://stackoverflow.com/questions/45013060/how-to-do-zero-padding-in-keras-conv-layer\n",
        "\n",
        "# Model Creation\n",
        "\n",
        "model = Sequential()\n",
        "\n",
        "# ConvNet layer 1\n",
        "\n",
        "model.add(Conv2D(32,kernel_size=(3,3),activation=\"relu\",input_shape=(img_rows,img_cols,1),kernel_initializer=\"glorot_normal\"))\n",
        "\n",
        "\n",
        "# MaxPooling layer 1\n",
        "\n",
        "model.add(MaxPooling2D(pool_size=(2,2)))\n",
        "\n",
        "# ConvNet layer 2\n",
        "\n",
        "model.add(Conv2D(64,kernel_size=(3,3),activation=\"relu\",kernel_initializer=\"glorot_normal\"))\n",
        "\n",
        "# MaxPooling layer 2\n",
        "\n",
        "model.add(MaxPooling2D(pool_size=(2,2)))\n",
        "\n",
        "# ConvNet layer 3\n",
        "\n",
        "model.add(Conv2D(96,kernel_size=(3,3),activation=\"relu\",kernel_initializer=\"glorot_normal\"))\n",
        "\n",
        "# MaxPooling layer 3\n",
        "\n",
        "model.add(MaxPooling2D(pool_size=(2,2)))\n",
        "\n",
        "# Flatten Layer\n",
        "\n",
        "model.add(Flatten())\n",
        "\n",
        "# Dense Layer \n",
        "\n",
        "model.add(Dense(128,activation=\"relu\",kernel_initializer=\"glorot_normal\"))\n",
        "\n",
        "# Output layer\n",
        "\n",
        "model.add(Dense(10,activation=\"softmax\",kernel_initializer=\"glorot_normal\"))"
      ],
      "execution_count": 0,
      "outputs": [
        {
          "output_type": "stream",
          "text": [
            "WARNING:tensorflow:From /usr/local/lib/python3.6/dist-packages/tensorflow/python/framework/op_def_library.py:263: colocate_with (from tensorflow.python.framework.ops) is deprecated and will be removed in a future version.\n",
            "Instructions for updating:\n",
            "Colocations handled automatically by placer.\n"
          ],
          "name": "stdout"
        }
      ]
    },
    {
      "cell_type": "code",
      "metadata": {
        "id": "MzVaB2EW0W7x",
        "colab_type": "code",
        "outputId": "b34a65cc-ad3c-4523-f916-da8ca526b0b4",
        "colab": {
          "base_uri": "https://localhost:8080/",
          "height": 442
        }
      },
      "source": [
        "# Model Summary\n",
        "\n",
        "model.summary()"
      ],
      "execution_count": 0,
      "outputs": [
        {
          "output_type": "stream",
          "text": [
            "_________________________________________________________________\n",
            "Layer (type)                 Output Shape              Param #   \n",
            "=================================================================\n",
            "conv2d_1 (Conv2D)            (None, 26, 26, 32)        320       \n",
            "_________________________________________________________________\n",
            "max_pooling2d_1 (MaxPooling2 (None, 13, 13, 32)        0         \n",
            "_________________________________________________________________\n",
            "conv2d_2 (Conv2D)            (None, 11, 11, 64)        18496     \n",
            "_________________________________________________________________\n",
            "max_pooling2d_2 (MaxPooling2 (None, 5, 5, 64)          0         \n",
            "_________________________________________________________________\n",
            "conv2d_3 (Conv2D)            (None, 3, 3, 96)          55392     \n",
            "_________________________________________________________________\n",
            "max_pooling2d_3 (MaxPooling2 (None, 1, 1, 96)          0         \n",
            "_________________________________________________________________\n",
            "flatten_1 (Flatten)          (None, 96)                0         \n",
            "_________________________________________________________________\n",
            "dense_1 (Dense)              (None, 128)               12416     \n",
            "_________________________________________________________________\n",
            "dense_2 (Dense)              (None, 10)                1290      \n",
            "=================================================================\n",
            "Total params: 87,914\n",
            "Trainable params: 87,914\n",
            "Non-trainable params: 0\n",
            "_________________________________________________________________\n"
          ],
          "name": "stdout"
        }
      ]
    },
    {
      "cell_type": "code",
      "metadata": {
        "id": "JFOxRU0O0ZQw",
        "colab_type": "code",
        "colab": {}
      },
      "source": [
        "# Model compilation\n",
        "\n",
        "model.compile(optimizer=\"adam\",loss=\"categorical_crossentropy\",metrics=[\"accuracy\"])"
      ],
      "execution_count": 0,
      "outputs": []
    },
    {
      "cell_type": "markdown",
      "metadata": {
        "id": "3K-GgwAUADs-",
        "colab_type": "text"
      },
      "source": [
        "#### 4.1.2 **Model Training:**"
      ]
    },
    {
      "cell_type": "code",
      "metadata": {
        "id": "vLBm0eciABgq",
        "colab_type": "code",
        "outputId": "2fe32283-b1ce-47b8-adcb-e03c0714c315",
        "colab": {
          "base_uri": "https://localhost:8080/",
          "height": 445
        }
      },
      "source": [
        "# model training\n",
        "\n",
        "History=model.fit(X_train,Y_train,batch_size=200,epochs=10,verbose=1,validation_split=0.2)"
      ],
      "execution_count": 0,
      "outputs": [
        {
          "output_type": "stream",
          "text": [
            "WARNING:tensorflow:From /usr/local/lib/python3.6/dist-packages/tensorflow/python/ops/math_ops.py:3066: to_int32 (from tensorflow.python.ops.math_ops) is deprecated and will be removed in a future version.\n",
            "Instructions for updating:\n",
            "Use tf.cast instead.\n",
            "Train on 48000 samples, validate on 12000 samples\n",
            "Epoch 1/10\n",
            "48000/48000 [==============================] - 55s 1ms/step - loss: 0.4889 - acc: 0.8511 - val_loss: 0.1677 - val_acc: 0.9482\n",
            "Epoch 2/10\n",
            "48000/48000 [==============================] - 57s 1ms/step - loss: 0.1161 - acc: 0.9643 - val_loss: 0.0866 - val_acc: 0.9743\n",
            "Epoch 3/10\n",
            "48000/48000 [==============================] - 56s 1ms/step - loss: 0.0831 - acc: 0.9744 - val_loss: 0.0798 - val_acc: 0.9775\n",
            "Epoch 4/10\n",
            "48000/48000 [==============================] - 57s 1ms/step - loss: 0.0662 - acc: 0.9802 - val_loss: 0.0651 - val_acc: 0.9800\n",
            "Epoch 5/10\n",
            "48000/48000 [==============================] - 54s 1ms/step - loss: 0.0562 - acc: 0.9829 - val_loss: 0.0657 - val_acc: 0.9801\n",
            "Epoch 6/10\n",
            "48000/48000 [==============================] - 54s 1ms/step - loss: 0.0498 - acc: 0.9845 - val_loss: 0.0626 - val_acc: 0.9829\n",
            "Epoch 7/10\n",
            "48000/48000 [==============================] - 56s 1ms/step - loss: 0.0410 - acc: 0.9877 - val_loss: 0.0762 - val_acc: 0.9774\n",
            "Epoch 8/10\n",
            "48000/48000 [==============================] - 54s 1ms/step - loss: 0.0381 - acc: 0.9882 - val_loss: 0.0527 - val_acc: 0.9851\n",
            "Epoch 9/10\n",
            "48000/48000 [==============================] - 53s 1ms/step - loss: 0.0339 - acc: 0.9895 - val_loss: 0.0538 - val_acc: 0.9829\n",
            "Epoch 10/10\n",
            "48000/48000 [==============================] - 56s 1ms/step - loss: 0.0298 - acc: 0.9902 - val_loss: 0.0490 - val_acc: 0.9858\n"
          ],
          "name": "stdout"
        }
      ]
    },
    {
      "cell_type": "code",
      "metadata": {
        "id": "mmlMt4JhAPG8",
        "colab_type": "code",
        "outputId": "2d0eb2da-2135-494b-8537-b6e7dd0dfe42",
        "colab": {
          "base_uri": "https://localhost:8080/",
          "height": 295
        }
      },
      "source": [
        "# References\n",
        "# https://machinelearningmastery.com/display-deep-learning-model-training-history-in-keras/\n",
        "# https://keras.io/models/sequential/\n",
        "\n",
        "# Plotting Loss vs Epoch\n",
        "\n",
        "plt.close()\n",
        "plt.plot(History.history['loss'],'b',label=\"Training Loss\")\n",
        "plt.plot(History.history['val_loss'],'r',label=\"Validation Loss\")\n",
        "plt.title(\"Loss vs Epoch\")\n",
        "plt.xlabel(\"Epochs\")\n",
        "plt.ylabel(\"Loss\")\n",
        "plt.legend()\n",
        "plt.grid()\n",
        "plt.show()"
      ],
      "execution_count": 0,
      "outputs": [
        {
          "output_type": "display_data",
          "data": {
            "image/png": "[encoded data removed]",
            "text/plain": [
              "<Figure size 432x288 with 1 Axes>"
            ]
          },
          "metadata": {
            "tags": []
          }
        }
      ]
    },
    {
      "cell_type": "code",
      "metadata": {
        "id": "PM5LVt2lEJ6L",
        "colab_type": "code",
        "outputId": "eb80debd-5ef9-42bf-9449-404b4cf9c003",
        "colab": {
          "base_uri": "https://localhost:8080/",
          "height": 295
        }
      },
      "source": [
        "# Plotting Accuracy vs Epoch\n",
        "\n",
        "plt.close()\n",
        "plt.plot(History.history['acc'],'b',label=\"Training Accuracy\")\n",
        "plt.plot(History.history['val_acc'],'r',label=\"Validation Accuracy\")\n",
        "plt.title(\"Accuracy vs Epoch\")\n",
        "plt.xlabel(\"Epochs\")\n",
        "plt.ylabel(\"Accuracy\")\n",
        "plt.legend()\n",
        "plt.grid()\n",
        "plt.show()"
      ],
      "execution_count": 0,
      "outputs": [
        {
          "output_type": "display_data",
          "data": {
            "image/png": "[encoded data removed]",
            "text/plain": [
              "<Figure size 432x288 with 1 Axes>"
            ]
          },
          "metadata": {
            "tags": []
          }
        }
      ]
    },
    {
      "cell_type": "code",
      "metadata": {
        "id": "45tyNVs5EN5t",
        "colab_type": "code",
        "outputId": "9f8ce8a0-e5d7-4be7-8286-3b9c96b432ed",
        "colab": {
          "base_uri": "https://localhost:8080/",
          "height": 190
        }
      },
      "source": [
        "# References\n",
        "# https://stackoverflow.com/questions/43715047/keras-2-x-get-weights-of-layer\n",
        "\n",
        "\n",
        "for layer in model.layers:\n",
        "  print(layer.get_config())"
      ],
      "execution_count": 0,
      "outputs": [
        {
          "output_type": "stream",
          "text": [
            "{'name': 'conv2d_1', 'trainable': True, 'batch_input_shape': (None, 28, 28, 1), 'dtype': 'float32', 'filters': 32, 'kernel_size': (3, 3), 'strides': (1, 1), 'padding': 'valid', 'data_format': 'channels_last', 'dilation_rate': (1, 1), 'activation': 'relu', 'use_bias': True, 'kernel_initializer': {'class_name': 'VarianceScaling', 'config': {'scale': 1.0, 'mode': 'fan_avg', 'distribution': 'normal', 'seed': None}}, 'bias_initializer': {'class_name': 'Zeros', 'config': {}}, 'kernel_regularizer': None, 'bias_regularizer': None, 'activity_regularizer': None, 'kernel_constraint': None, 'bias_constraint': None}\n",
            "{'name': 'max_pooling2d_1', 'trainable': True, 'pool_size': (2, 2), 'padding': 'valid', 'strides': (2, 2), 'data_format': 'channels_last'}\n",
            "{'name': 'conv2d_2', 'trainable': True, 'filters': 64, 'kernel_size': (3, 3), 'strides': (1, 1), 'padding': 'valid', 'data_format': 'channels_last', 'dilation_rate': (1, 1), 'activation': 'relu', 'use_bias': True, 'kernel_initializer': {'class_name': 'VarianceScaling', 'config': {'scale': 1.0, 'mode': 'fan_avg', 'distribution': 'normal', 'seed': None}}, 'bias_initializer': {'class_name': 'Zeros', 'config': {}}, 'kernel_regularizer': None, 'bias_regularizer': None, 'activity_regularizer': None, 'kernel_constraint': None, 'bias_constraint': None}\n",
            "{'name': 'max_pooling2d_2', 'trainable': True, 'pool_size': (2, 2), 'padding': 'valid', 'strides': (2, 2), 'data_format': 'channels_last'}\n",
            "{'name': 'conv2d_3', 'trainable': True, 'filters': 96, 'kernel_size': (3, 3), 'strides': (1, 1), 'padding': 'valid', 'data_format': 'channels_last', 'dilation_rate': (1, 1), 'activation': 'relu', 'use_bias': True, 'kernel_initializer': {'class_name': 'VarianceScaling', 'config': {'scale': 1.0, 'mode': 'fan_avg', 'distribution': 'normal', 'seed': None}}, 'bias_initializer': {'class_name': 'Zeros', 'config': {}}, 'kernel_regularizer': None, 'bias_regularizer': None, 'activity_regularizer': None, 'kernel_constraint': None, 'bias_constraint': None}\n",
            "{'name': 'max_pooling2d_3', 'trainable': True, 'pool_size': (2, 2), 'padding': 'valid', 'strides': (2, 2), 'data_format': 'channels_last'}\n",
            "{'name': 'flatten_1', 'trainable': True, 'data_format': 'channels_last'}\n",
            "{'name': 'dense_1', 'trainable': True, 'units': 128, 'activation': 'relu', 'use_bias': True, 'kernel_initializer': {'class_name': 'VarianceScaling', 'config': {'scale': 1.0, 'mode': 'fan_avg', 'distribution': 'normal', 'seed': None}}, 'bias_initializer': {'class_name': 'Zeros', 'config': {}}, 'kernel_regularizer': None, 'bias_regularizer': None, 'activity_regularizer': None, 'kernel_constraint': None, 'bias_constraint': None}\n",
            "{'name': 'dense_2', 'trainable': True, 'units': 10, 'activation': 'softmax', 'use_bias': True, 'kernel_initializer': {'class_name': 'VarianceScaling', 'config': {'scale': 1.0, 'mode': 'fan_avg', 'distribution': 'normal', 'seed': None}}, 'bias_initializer': {'class_name': 'Zeros', 'config': {}}, 'kernel_regularizer': None, 'bias_regularizer': None, 'activity_regularizer': None, 'kernel_constraint': None, 'bias_constraint': None}\n"
          ],
          "name": "stdout"
        }
      ]
    },
    {
      "cell_type": "code",
      "metadata": {
        "id": "IHub7PMIESxK",
        "colab_type": "code",
        "outputId": "46cfc980-b970-423b-e1f6-e3dfa1a142b2",
        "colab": {
          "base_uri": "https://localhost:8080/",
          "height": 272
        }
      },
      "source": [
        "# References\n",
        "# https://stackoverflow.com/questions/43715047/keras-2-x-get-weights-of-layer\n",
        "\n",
        "layer1_weights = model.layers[0].get_weights()[0]\n",
        "layer2_weights = model.layers[2].get_weights()[0]\n",
        "layer3_weights = model.layers[4].get_weights()[0]\n",
        "layer4_weights = model.layers[7].get_weights()[0]\n",
        "output_weights = model.layers[8].get_weights()[0]\n",
        "\n",
        "print(\" Conv Layer One Weight Matrix Shape\")\n",
        "print(\"=\"*125)\n",
        "print(layer1_weights.shape)\n",
        "print(\" Conv Layer Two Weight Matrix Shape\")\n",
        "print(\"=\"*125)\n",
        "print(layer2_weights.shape)\n",
        "print(\" Conv Layer Three Weight Matrix Shape\")\n",
        "print(\"=\"*125)\n",
        "print(layer3_weights.shape)\n",
        "print(\" Dense Layer One Weight Matrix Shape\")\n",
        "print(\"=\"*125)\n",
        "print(layer4_weights.shape)\n",
        "print(\" Output Layer Weight Matrix Shape\")\n",
        "print(\"=\"*125)\n",
        "print(output_weights.shape)"
      ],
      "execution_count": 0,
      "outputs": [
        {
          "output_type": "stream",
          "text": [
            " Conv Layer One Weight Matrix Shape\n",
            "=============================================================================================================================\n",
            "(3, 3, 1, 32)\n",
            " Conv Layer Two Weight Matrix Shape\n",
            "=============================================================================================================================\n",
            "(3, 3, 32, 64)\n",
            " Conv Layer Three Weight Matrix Shape\n",
            "=============================================================================================================================\n",
            "(3, 3, 64, 96)\n",
            " Dense Layer One Weight Matrix Shape\n",
            "=============================================================================================================================\n",
            "(96, 128)\n",
            " Output Layer Weight Matrix Shape\n",
            "=============================================================================================================================\n",
            "(128, 10)\n"
          ],
          "name": "stdout"
        }
      ]
    },
    {
      "cell_type": "code",
      "metadata": {
        "id": "NrQnrZ_wEuTm",
        "colab_type": "code",
        "outputId": "e805963b-fd7f-4b1b-a1b7-97d8db3a9f25",
        "colab": {
          "base_uri": "https://localhost:8080/",
          "height": 671
        }
      },
      "source": [
        "# References \n",
        "# https://seaborn.pydata.org/generated/seaborn.violinplot.html\n",
        "# https://matplotlib.org/api/_as_gen/matplotlib.pyplot.subplot.html\n",
        "\n",
        "fig = plt.figure(1,figsize=(7,7))\n",
        "fig.suptitle(\"Weight Matrix\")\n",
        "plt.subplot(1, 3, 1)\n",
        "plt.title(\"Conv Layer One\")\n",
        "sns.violinplot(y=layer1_weights,color='r')\n",
        "plt.grid()\n",
        "\n",
        "plt.subplot(1,3,2)\n",
        "plt.title(\"Conv Layer Two\")\n",
        "sns.violinplot(y=layer2_weights,color='g')\n",
        "plt.grid()\n",
        "\n",
        "plt.subplot(1,3,3)\n",
        "plt.title(\"Conv Layer Three\")\n",
        "sns.violinplot(y=layer3_weights,color='b')\n",
        "plt.grid()\n",
        "\n",
        "fig = plt.figure(2,figsize=(7,7))\n",
        "\n",
        "plt.subplot(2,2,1)\n",
        "plt.title(\"Dense Layer One\")\n",
        "sns.violinplot(y=layer4_weights,color='r')\n",
        "plt.grid()\n",
        "\n",
        "plt.subplot(2,2,2)\n",
        "plt.title(\"Output Layer\")\n",
        "sns.violinplot(y=output_weights,color='b')\n",
        "plt.grid()"
      ],
      "execution_count": 0,
      "outputs": [
        {
          "output_type": "display_data",
          "data": {
            "image/png": "[encoded data removed]",
            "text/plain": [
              "<Figure size 504x504 with 3 Axes>"
            ]
          },
          "metadata": {
            "tags": []
          }
        },
        {
          "output_type": "display_data",
          "data": {
            "image/png": "[encoded data removed]",
            "text/plain": [
              "<Figure size 504x504 with 2 Axes>"
            ]
          },
          "metadata": {
            "tags": []
          }
        }
      ]
    },
    {
      "cell_type": "markdown",
      "metadata": {
        "id": "J1AzemyvGZ8M",
        "colab_type": "text"
      },
      "source": [
        " **Observation:**\n",
        "                                          The weights are not too large and not too small. The weights are normally distributed."
      ]
    },
    {
      "cell_type": "markdown",
      "metadata": {
        "id": "8yhLn8kJGeH6",
        "colab_type": "text"
      },
      "source": [
        "#### 4.1.3 **Model Evaluation:**"
      ]
    },
    {
      "cell_type": "code",
      "metadata": {
        "id": "-WsrhuFFGP8E",
        "colab_type": "code",
        "colab": {}
      },
      "source": [
        "# Refernces\n",
        "# https://keras.io/models/model/#evaluate\n",
        "\n",
        "evaluate_data=model.evaluate(X_test,Y_test,verbose=0)"
      ],
      "execution_count": 0,
      "outputs": []
    },
    {
      "cell_type": "code",
      "metadata": {
        "id": "BXLo6is2GjFL",
        "colab_type": "code",
        "outputId": "c497f068-f084-4b99-fa88-2002fef041d8",
        "colab": {
          "base_uri": "https://localhost:8080/",
          "height": 119
        }
      },
      "source": [
        "evaluate_loss = evaluate_data[0]\n",
        "evaluate_acc  = evaluate_data[1]\n",
        "\n",
        "print(\" Evaluate Loss\")\n",
        "print(\"=\"*100)\n",
        "print(evaluate_loss)\n",
        "\n",
        "print(\" Evaluate Accuracy\")\n",
        "print(\"=\"*100)\n",
        "print(evaluate_acc)"
      ],
      "execution_count": 0,
      "outputs": [
        {
          "output_type": "stream",
          "text": [
            " Evaluate Loss\n",
            "====================================================================================================\n",
            "0.04682051499633817\n",
            " Evaluate Accuracy\n",
            "====================================================================================================\n",
            "0.9863\n"
          ],
          "name": "stdout"
        }
      ]
    },
    {
      "cell_type": "markdown",
      "metadata": {
        "id": "hOUHqV5dGq_n",
        "colab_type": "text"
      },
      "source": [
        "#### 4.1.4 **Model Predict:**"
      ]
    },
    {
      "cell_type": "code",
      "metadata": {
        "id": "LRsiNHvtGm72",
        "colab_type": "code",
        "outputId": "3ee4d942-0fd7-4440-b3ee-d518f927bcf8",
        "colab": {
          "base_uri": "https://localhost:8080/",
          "height": 34
        }
      },
      "source": [
        "# References\n",
        "# https://towardsdatascience.com/image-classification-in-10-minutes-with-mnist-dataset-54c35b77a38d\n",
        "# https://keras.io/models/model/#predict\n",
        "\n",
        "test_data=X_test[500].reshape(1,28,28,1)\n",
        "test_data.shape"
      ],
      "execution_count": 0,
      "outputs": [
        {
          "output_type": "execute_result",
          "data": {
            "text/plain": [
              "(1, 28, 28, 1)"
            ]
          },
          "metadata": {
            "tags": []
          },
          "execution_count": 31
        }
      ]
    },
    {
      "cell_type": "code",
      "metadata": {
        "id": "nUcGPg71GvAg",
        "colab_type": "code",
        "colab": {}
      },
      "source": [
        "pred_label = model.predict(test_data)"
      ],
      "execution_count": 0,
      "outputs": []
    },
    {
      "cell_type": "code",
      "metadata": {
        "id": "9TzQCVY8G6zn",
        "colab_type": "code",
        "outputId": "fa8c4ab5-94b6-45a7-feb5-07f65f1977e6",
        "colab": {
          "base_uri": "https://localhost:8080/",
          "height": 119
        }
      },
      "source": [
        "print(\"The Actual Label of the predicted data\")\n",
        "print(\"=\"*100)\n",
        "print(Y_test[500].argmax())\n",
        "print(\"The Predicted Label of the predicted data\")\n",
        "print(\"=\"*100)\n",
        "print(pred_label.argmax())"
      ],
      "execution_count": 0,
      "outputs": [
        {
          "output_type": "stream",
          "text": [
            "The Actual Label of the predicted data\n",
            "====================================================================================================\n",
            "3\n",
            "The Predicted Label of the predicted data\n",
            "====================================================================================================\n",
            "3\n"
          ],
          "name": "stdout"
        }
      ]
    },
    {
      "cell_type": "markdown",
      "metadata": {
        "id": "Uy7GJ68eHeCv",
        "colab_type": "text"
      },
      "source": [
        "#### 4.1.5 **Observation:**"
      ]
    },
    {
      "cell_type": "code",
      "metadata": {
        "id": "UyO05yUyITLF",
        "colab_type": "code",
        "colab": {}
      },
      "source": [
        "from prettytable import PrettyTable"
      ],
      "execution_count": 0,
      "outputs": []
    },
    {
      "cell_type": "code",
      "metadata": {
        "id": "DiHY6kbZHC5I",
        "colab_type": "code",
        "outputId": "7581b882-4ca7-444f-c4da-77abc48c222a",
        "colab": {
          "base_uri": "https://localhost:8080/",
          "height": 187
        }
      },
      "source": [
        "\n",
        "a=PrettyTable()\n",
        "b=PrettyTable()\n",
        "b.field_names = [\"Initialization\",\"Optimizer\",\"Dropout rate\",\"Batch Size\",\"Epochs\"]\n",
        "b.add_row([\"Xavier/Glorot\",\"Adam\",\"Nil\",200,10])\n",
        "a.field_names = [\"Conv Layer\",\"Kernel Size\",\"Train loss\",\"Val_loss\",\"Test_loss\",\"Train_acc\",\"Val_acc\",\"Test_acc\"]\n",
        "a.add_row([3,\"3x3\",0.0298,0.0490 ,0.0468,0.9902,0.9858,0.9863])\n",
        "print(b)\n",
        "print(a)"
      ],
      "execution_count": 0,
      "outputs": [
        {
          "output_type": "stream",
          "text": [
            "+----------------+-----------+--------------+------------+--------+\n",
            "| Initialization | Optimizer | Dropout rate | Batch Size | Epochs |\n",
            "+----------------+-----------+--------------+------------+--------+\n",
            "| Xavier/Glorot  |    Adam   |     Nil      |    200     |   10   |\n",
            "+----------------+-----------+--------------+------------+--------+\n",
            "+------------+-------------+------------+----------+-----------+-----------+---------+----------+\n",
            "| Conv Layer | Kernel Size | Train loss | Val_loss | Test_loss | Train_acc | Val_acc | Test_acc |\n",
            "+------------+-------------+------------+----------+-----------+-----------+---------+----------+\n",
            "|     3      |     3x3     |   0.0298   |  0.049   |   0.0468  |   0.9902  |  0.9858 |  0.9863  |\n",
            "+------------+-------------+------------+----------+-----------+-----------+---------+----------+\n"
          ],
          "name": "stdout"
        }
      ]
    },
    {
      "cell_type": "markdown",
      "metadata": {
        "colab_type": "text",
        "id": "DbUDuVSMIzO6"
      },
      "source": [
        "### **4.2.  Five ConvNet Layers  followed by MLP :** "
      ]
    },
    {
      "cell_type": "markdown",
      "metadata": {
        "colab_type": "text",
        "id": "dJmEu3ZNIzPE"
      },
      "source": [
        "#### 4.2.1 **Sequence Model :**"
      ]
    },
    {
      "cell_type": "code",
      "metadata": {
        "colab_type": "code",
        "id": "8oE_FTbgIzPE",
        "colab": {}
      },
      "source": [
        "# References\n",
        "# https://stackoverflow.com/questions/45013060/how-to-do-zero-padding-in-keras-conv-layer\n",
        "\n",
        "# Model Creation\n",
        "\n",
        "model = Sequential()\n",
        "\n",
        "# ConvNet layer 1\n",
        "\n",
        "model.add(Conv2D(32,kernel_size=(5,5),activation=\"relu\",input_shape=(img_rows,img_cols,1),kernel_initializer=\"glorot_normal\"))\n",
        "\n",
        "\n",
        "# MaxPooling layer 1\n",
        "\n",
        "model.add(MaxPooling2D(pool_size=(2,2)))\n",
        "\n",
        "# ConvNet layer 2\n",
        "\n",
        "model.add(Conv2D(56,kernel_size=(5,5),activation=\"relu\",kernel_initializer=\"glorot_normal\"))\n",
        "\n",
        "# MaxPooling layer 2\n",
        "\n",
        "model.add(MaxPooling2D(pool_size=(2,2)))\n",
        "\n",
        "# ConvNet layer 3\n",
        "\n",
        "model.add(Conv2D(68,kernel_size=(5,5),activation=\"relu\",padding=\"same\",strides=1,kernel_initializer=\"glorot_normal\"))\n",
        "\n",
        "# MaxPooling layer 3\n",
        "\n",
        "model.add(MaxPooling2D(pool_size=(2,2),padding=\"same\",strides=1))\n",
        "\n",
        "# ConvNet layer 4\n",
        "\n",
        "model.add(Conv2D(80,kernel_size=(5,5),activation=\"relu\",padding=\"same\",strides=1,kernel_initializer=\"glorot_normal\"))\n",
        "\n",
        "# MaxPooling layer 4\n",
        "\n",
        "model.add(MaxPooling2D(pool_size=(2,2),padding=\"same\",strides=1))\n",
        "\n",
        "# ConvNet layer 5\n",
        "\n",
        "model.add(Conv2D(92,kernel_size=(5,5),activation=\"relu\",padding=\"same\",strides=1,kernel_initializer=\"glorot_normal\"))\n",
        "\n",
        "# MaxPooling layer 5\n",
        "\n",
        "model.add(MaxPooling2D(pool_size=(2,2),padding=\"same\",strides=1))\n",
        "\n",
        "# Flatten Layer\n",
        "\n",
        "model.add(Flatten())\n",
        "\n",
        "# Dense Layer \n",
        "\n",
        "model.add(Dense(128,activation=\"relu\",kernel_initializer=\"glorot_normal\"))\n",
        "\n",
        "# Output layer\n",
        "\n",
        "model.add(Dense(10,activation=\"softmax\",kernel_initializer=\"glorot_normal\"))"
      ],
      "execution_count": 0,
      "outputs": []
    },
    {
      "cell_type": "code",
      "metadata": {
        "colab_type": "code",
        "outputId": "89de6d8f-baa3-4c2c-9040-d13da8e23ade",
        "id": "fp2fAUSQIzPK",
        "colab": {
          "base_uri": "https://localhost:8080/",
          "height": 578
        }
      },
      "source": [
        "# Model Summary\n",
        "\n",
        "model.summary()"
      ],
      "execution_count": 0,
      "outputs": [
        {
          "output_type": "stream",
          "text": [
            "_________________________________________________________________\n",
            "Layer (type)                 Output Shape              Param #   \n",
            "=================================================================\n",
            "conv2d_17 (Conv2D)           (None, 24, 24, 32)        832       \n",
            "_________________________________________________________________\n",
            "max_pooling2d_17 (MaxPooling (None, 12, 12, 32)        0         \n",
            "_________________________________________________________________\n",
            "conv2d_18 (Conv2D)           (None, 8, 8, 56)          44856     \n",
            "_________________________________________________________________\n",
            "max_pooling2d_18 (MaxPooling (None, 4, 4, 56)          0         \n",
            "_________________________________________________________________\n",
            "conv2d_19 (Conv2D)           (None, 4, 4, 68)          95268     \n",
            "_________________________________________________________________\n",
            "max_pooling2d_19 (MaxPooling (None, 4, 4, 68)          0         \n",
            "_________________________________________________________________\n",
            "conv2d_20 (Conv2D)           (None, 4, 4, 80)          136080    \n",
            "_________________________________________________________________\n",
            "max_pooling2d_20 (MaxPooling (None, 4, 4, 80)          0         \n",
            "_________________________________________________________________\n",
            "conv2d_21 (Conv2D)           (None, 4, 4, 92)          184092    \n",
            "_________________________________________________________________\n",
            "max_pooling2d_21 (MaxPooling (None, 4, 4, 92)          0         \n",
            "_________________________________________________________________\n",
            "flatten_5 (Flatten)          (None, 1472)              0         \n",
            "_________________________________________________________________\n",
            "dense_9 (Dense)              (None, 128)               188544    \n",
            "_________________________________________________________________\n",
            "dense_10 (Dense)             (None, 10)                1290      \n",
            "=================================================================\n",
            "Total params: 650,962\n",
            "Trainable params: 650,962\n",
            "Non-trainable params: 0\n",
            "_________________________________________________________________\n"
          ],
          "name": "stdout"
        }
      ]
    },
    {
      "cell_type": "code",
      "metadata": {
        "colab_type": "code",
        "id": "JmQ74HhTIzPP",
        "colab": {}
      },
      "source": [
        "# Model compilation\n",
        "\n",
        "model.compile(optimizer=\"adam\",loss=\"categorical_crossentropy\",metrics=[\"accuracy\"])"
      ],
      "execution_count": 0,
      "outputs": []
    },
    {
      "cell_type": "markdown",
      "metadata": {
        "colab_type": "text",
        "id": "gU3PHqUTIzPR"
      },
      "source": [
        "#### 4.2.2 **Model Training:**"
      ]
    },
    {
      "cell_type": "code",
      "metadata": {
        "colab_type": "code",
        "outputId": "027be66a-666c-43c6-a644-aeb48d94427e",
        "id": "tFyVvu-vIzPS",
        "colab": {
          "base_uri": "https://localhost:8080/",
          "height": 374
        }
      },
      "source": [
        "# model training\n",
        "\n",
        "History=model.fit(X_train,Y_train,batch_size=200,epochs=10,verbose=1,validation_split=0.2)"
      ],
      "execution_count": 0,
      "outputs": [
        {
          "output_type": "stream",
          "text": [
            "Train on 48000 samples, validate on 12000 samples\n",
            "Epoch 1/10\n",
            "48000/48000 [==============================] - 158s 3ms/step - loss: 0.4791 - acc: 0.8354 - val_loss: 0.1306 - val_acc: 0.9592\n",
            "Epoch 2/10\n",
            "48000/48000 [==============================] - 153s 3ms/step - loss: 0.0781 - acc: 0.9763 - val_loss: 0.0806 - val_acc: 0.9752\n",
            "Epoch 3/10\n",
            "48000/48000 [==============================] - 156s 3ms/step - loss: 0.0470 - acc: 0.9856 - val_loss: 0.0531 - val_acc: 0.9834\n",
            "Epoch 4/10\n",
            "48000/48000 [==============================] - 157s 3ms/step - loss: 0.0372 - acc: 0.9881 - val_loss: 0.0506 - val_acc: 0.9856\n",
            "Epoch 5/10\n",
            "48000/48000 [==============================] - 155s 3ms/step - loss: 0.0266 - acc: 0.9920 - val_loss: 0.0470 - val_acc: 0.9873\n",
            "Epoch 6/10\n",
            "48000/48000 [==============================] - 156s 3ms/step - loss: 0.0233 - acc: 0.9927 - val_loss: 0.0402 - val_acc: 0.9881\n",
            "Epoch 7/10\n",
            "48000/48000 [==============================] - 156s 3ms/step - loss: 0.0210 - acc: 0.9931 - val_loss: 0.0381 - val_acc: 0.9903\n",
            "Epoch 8/10\n",
            "48000/48000 [==============================] - 156s 3ms/step - loss: 0.0200 - acc: 0.9940 - val_loss: 0.0558 - val_acc: 0.9858\n",
            "Epoch 9/10\n",
            "48000/48000 [==============================] - 155s 3ms/step - loss: 0.0139 - acc: 0.9958 - val_loss: 0.0354 - val_acc: 0.9910\n",
            "Epoch 10/10\n",
            "48000/48000 [==============================] - 156s 3ms/step - loss: 0.0135 - acc: 0.9958 - val_loss: 0.0430 - val_acc: 0.9901\n"
          ],
          "name": "stdout"
        }
      ]
    },
    {
      "cell_type": "code",
      "metadata": {
        "colab_type": "code",
        "outputId": "72f5fe28-6b28-46e2-f91a-dc8d1c8f8db1",
        "id": "crp_U2S0IzPW",
        "colab": {
          "base_uri": "https://localhost:8080/",
          "height": 295
        }
      },
      "source": [
        "# References\n",
        "# https://machinelearningmastery.com/display-deep-learning-model-training-history-in-keras/\n",
        "# https://keras.io/models/sequential/\n",
        "\n",
        "# Plotting Loss vs Epoch\n",
        "\n",
        "plt.close()\n",
        "plt.plot(History.history['loss'],'b',label=\"Training Loss\")\n",
        "plt.plot(History.history['val_loss'],'r',label=\"Validation Loss\")\n",
        "plt.title(\"Loss vs Epoch\")\n",
        "plt.xlabel(\"Epochs\")\n",
        "plt.ylabel(\"Loss\")\n",
        "plt.legend()\n",
        "plt.grid()\n",
        "plt.show()"
      ],
      "execution_count": 0,
      "outputs": [
        {
          "output_type": "display_data",
          "data": {
            "image/png": "[encoded data removed]",
            "text/plain": [
              "<Figure size 432x288 with 1 Axes>"
            ]
          },
          "metadata": {
            "tags": []
          }
        }
      ]
    },
    {
      "cell_type": "code",
      "metadata": {
        "colab_type": "code",
        "outputId": "9428835d-bb89-4089-81f1-38e95b51cdc9",
        "id": "imCh0XWMIzPi",
        "colab": {
          "base_uri": "https://localhost:8080/",
          "height": 295
        }
      },
      "source": [
        "# Plotting Accuracy vs Epoch\n",
        "\n",
        "plt.close()\n",
        "plt.plot(History.history['acc'],'b',label=\"Training Accuracy\")\n",
        "plt.plot(History.history['val_acc'],'r',label=\"Validation Accuracy\")\n",
        "plt.title(\"Accuracy vs Epoch\")\n",
        "plt.xlabel(\"Epochs\")\n",
        "plt.ylabel(\"Accuracy\")\n",
        "plt.legend()\n",
        "plt.grid()\n",
        "plt.show()"
      ],
      "execution_count": 0,
      "outputs": [
        {
          "output_type": "display_data",
          "data": {
            "image/png": "[encoded data removed]",
            "text/plain": [
              "<Figure size 432x288 with 1 Axes>"
            ]
          },
          "metadata": {
            "tags": []
          }
        }
      ]
    },
    {
      "cell_type": "code",
      "metadata": {
        "colab_type": "code",
        "outputId": "1a11e982-2a32-4205-cc43-7bdf3d9db66a",
        "id": "4ZlXVNzsIzPr",
        "colab": {
          "base_uri": "https://localhost:8080/",
          "height": 258
        }
      },
      "source": [
        "# References\n",
        "# https://stackoverflow.com/questions/43715047/keras-2-x-get-weights-of-layer\n",
        "\n",
        "\n",
        "for layer in model.layers:\n",
        "  print(layer.get_config())"
      ],
      "execution_count": 0,
      "outputs": [
        {
          "output_type": "stream",
          "text": [
            "{'name': 'conv2d_17', 'trainable': True, 'batch_input_shape': (None, 28, 28, 1), 'dtype': 'float32', 'filters': 32, 'kernel_size': (5, 5), 'strides': (1, 1), 'padding': 'valid', 'data_format': 'channels_last', 'dilation_rate': (1, 1), 'activation': 'relu', 'use_bias': True, 'kernel_initializer': {'class_name': 'VarianceScaling', 'config': {'scale': 1.0, 'mode': 'fan_avg', 'distribution': 'normal', 'seed': None}}, 'bias_initializer': {'class_name': 'Zeros', 'config': {}}, 'kernel_regularizer': None, 'bias_regularizer': None, 'activity_regularizer': None, 'kernel_constraint': None, 'bias_constraint': None}\n",
            "{'name': 'max_pooling2d_17', 'trainable': True, 'pool_size': (2, 2), 'padding': 'valid', 'strides': (2, 2), 'data_format': 'channels_last'}\n",
            "{'name': 'conv2d_18', 'trainable': True, 'filters': 56, 'kernel_size': (5, 5), 'strides': (1, 1), 'padding': 'valid', 'data_format': 'channels_last', 'dilation_rate': (1, 1), 'activation': 'relu', 'use_bias': True, 'kernel_initializer': {'class_name': 'VarianceScaling', 'config': {'scale': 1.0, 'mode': 'fan_avg', 'distribution': 'normal', 'seed': None}}, 'bias_initializer': {'class_name': 'Zeros', 'config': {}}, 'kernel_regularizer': None, 'bias_regularizer': None, 'activity_regularizer': None, 'kernel_constraint': None, 'bias_constraint': None}\n",
            "{'name': 'max_pooling2d_18', 'trainable': True, 'pool_size': (2, 2), 'padding': 'valid', 'strides': (2, 2), 'data_format': 'channels_last'}\n",
            "{'name': 'conv2d_19', 'trainable': True, 'filters': 68, 'kernel_size': (5, 5), 'strides': (1, 1), 'padding': 'same', 'data_format': 'channels_last', 'dilation_rate': (1, 1), 'activation': 'relu', 'use_bias': True, 'kernel_initializer': {'class_name': 'VarianceScaling', 'config': {'scale': 1.0, 'mode': 'fan_avg', 'distribution': 'normal', 'seed': None}}, 'bias_initializer': {'class_name': 'Zeros', 'config': {}}, 'kernel_regularizer': None, 'bias_regularizer': None, 'activity_regularizer': None, 'kernel_constraint': None, 'bias_constraint': None}\n",
            "{'name': 'max_pooling2d_19', 'trainable': True, 'pool_size': (2, 2), 'padding': 'same', 'strides': (1, 1), 'data_format': 'channels_last'}\n",
            "{'name': 'conv2d_20', 'trainable': True, 'filters': 80, 'kernel_size': (5, 5), 'strides': (1, 1), 'padding': 'same', 'data_format': 'channels_last', 'dilation_rate': (1, 1), 'activation': 'relu', 'use_bias': True, 'kernel_initializer': {'class_name': 'VarianceScaling', 'config': {'scale': 1.0, 'mode': 'fan_avg', 'distribution': 'normal', 'seed': None}}, 'bias_initializer': {'class_name': 'Zeros', 'config': {}}, 'kernel_regularizer': None, 'bias_regularizer': None, 'activity_regularizer': None, 'kernel_constraint': None, 'bias_constraint': None}\n",
            "{'name': 'max_pooling2d_20', 'trainable': True, 'pool_size': (2, 2), 'padding': 'same', 'strides': (1, 1), 'data_format': 'channels_last'}\n",
            "{'name': 'conv2d_21', 'trainable': True, 'filters': 92, 'kernel_size': (5, 5), 'strides': (1, 1), 'padding': 'same', 'data_format': 'channels_last', 'dilation_rate': (1, 1), 'activation': 'relu', 'use_bias': True, 'kernel_initializer': {'class_name': 'VarianceScaling', 'config': {'scale': 1.0, 'mode': 'fan_avg', 'distribution': 'normal', 'seed': None}}, 'bias_initializer': {'class_name': 'Zeros', 'config': {}}, 'kernel_regularizer': None, 'bias_regularizer': None, 'activity_regularizer': None, 'kernel_constraint': None, 'bias_constraint': None}\n",
            "{'name': 'max_pooling2d_21', 'trainable': True, 'pool_size': (2, 2), 'padding': 'same', 'strides': (1, 1), 'data_format': 'channels_last'}\n",
            "{'name': 'flatten_5', 'trainable': True, 'data_format': 'channels_last'}\n",
            "{'name': 'dense_9', 'trainable': True, 'units': 128, 'activation': 'relu', 'use_bias': True, 'kernel_initializer': {'class_name': 'VarianceScaling', 'config': {'scale': 1.0, 'mode': 'fan_avg', 'distribution': 'normal', 'seed': None}}, 'bias_initializer': {'class_name': 'Zeros', 'config': {}}, 'kernel_regularizer': None, 'bias_regularizer': None, 'activity_regularizer': None, 'kernel_constraint': None, 'bias_constraint': None}\n",
            "{'name': 'dense_10', 'trainable': True, 'units': 10, 'activation': 'softmax', 'use_bias': True, 'kernel_initializer': {'class_name': 'VarianceScaling', 'config': {'scale': 1.0, 'mode': 'fan_avg', 'distribution': 'normal', 'seed': None}}, 'bias_initializer': {'class_name': 'Zeros', 'config': {}}, 'kernel_regularizer': None, 'bias_regularizer': None, 'activity_regularizer': None, 'kernel_constraint': None, 'bias_constraint': None}\n"
          ],
          "name": "stdout"
        }
      ]
    },
    {
      "cell_type": "code",
      "metadata": {
        "colab_type": "code",
        "outputId": "0621503a-8bab-4396-b6ae-2b986b5cb421",
        "id": "9c8o-SzZIzPx",
        "colab": {
          "base_uri": "https://localhost:8080/",
          "height": 374
        }
      },
      "source": [
        "# References\n",
        "# https://stackoverflow.com/questions/43715047/keras-2-x-get-weights-of-layer\n",
        "\n",
        "layer1_weights = model.layers[0].get_weights()[0]\n",
        "layer2_weights = model.layers[2].get_weights()[0]\n",
        "layer3_weights = model.layers[4].get_weights()[0]\n",
        "layer4_weights = model.layers[6].get_weights()[0]\n",
        "layer5_weights = model.layers[8].get_weights()[0]\n",
        "layer6_weights = model.layers[11].get_weights()[0]\n",
        "output_weights = model.layers[12].get_weights()[0]\n",
        "\n",
        "print(\" Conv Layer One Weight Matrix Shape\")\n",
        "print(\"=\"*125)\n",
        "print(layer1_weights.shape)\n",
        "print(\" Conv Layer Two Weight Matrix Shape\")\n",
        "print(\"=\"*125)\n",
        "print(layer2_weights.shape)\n",
        "print(\" Conv Layer Three Weight Matrix Shape\")\n",
        "print(\"=\"*125)\n",
        "print(layer3_weights.shape)\n",
        "print(\" Conv Layer Four Weight Matrix Shape\")\n",
        "print(\"=\"*125)\n",
        "print(layer4_weights.shape)\n",
        "print(\" Conv Layer Five Weight Matrix Shape\")\n",
        "print(\"=\"*125)\n",
        "print(layer5_weights.shape)\n",
        "print(\" Dense Layer One Weight Matrix Shape\")\n",
        "print(\"=\"*125)\n",
        "print(layer6_weights.shape)\n",
        "print(\" Output Layer Weight Matrix Shape\")\n",
        "print(\"=\"*125)\n",
        "print(output_weights.shape)"
      ],
      "execution_count": 0,
      "outputs": [
        {
          "output_type": "stream",
          "text": [
            " Conv Layer One Weight Matrix Shape\n",
            "=============================================================================================================================\n",
            "(5, 5, 1, 32)\n",
            " Conv Layer Two Weight Matrix Shape\n",
            "=============================================================================================================================\n",
            "(5, 5, 32, 56)\n",
            " Conv Layer Three Weight Matrix Shape\n",
            "=============================================================================================================================\n",
            "(5, 5, 56, 68)\n",
            " Conv Layer Four Weight Matrix Shape\n",
            "=============================================================================================================================\n",
            "(5, 5, 68, 80)\n",
            " Conv Layer Five Weight Matrix Shape\n",
            "=============================================================================================================================\n",
            "(5, 5, 80, 92)\n",
            " Dense Layer One Weight Matrix Shape\n",
            "=============================================================================================================================\n",
            "(1472, 128)\n",
            " Output Layer Weight Matrix Shape\n",
            "=============================================================================================================================\n",
            "(128, 10)\n"
          ],
          "name": "stdout"
        }
      ]
    },
    {
      "cell_type": "code",
      "metadata": {
        "colab_type": "code",
        "outputId": "1f94a9bf-c7f1-420f-b704-e405e6bcb1b6",
        "id": "Go-cgHpQIzP8",
        "colab": {
          "base_uri": "https://localhost:8080/",
          "height": 671
        }
      },
      "source": [
        "# References \n",
        "# https://seaborn.pydata.org/generated/seaborn.violinplot.html\n",
        "# https://matplotlib.org/api/_as_gen/matplotlib.pyplot.subplot.html\n",
        "\n",
        "fig = plt.figure(1,figsize=(7,7))\n",
        "fig.suptitle(\"Weight Matrix\")\n",
        "plt.subplot(1, 3, 1)\n",
        "plt.title(\"Conv Layer One\")\n",
        "sns.violinplot(y=layer1_weights,color='r')\n",
        "plt.grid()\n",
        "\n",
        "plt.subplot(1,3,2)\n",
        "plt.title(\"Conv Layer Two\")\n",
        "sns.violinplot(y=layer2_weights,color='g')\n",
        "plt.grid()\n",
        "\n",
        "plt.subplot(1,3,3)\n",
        "plt.title(\"Conv Layer Three\")\n",
        "sns.violinplot(y=layer3_weights,color='b')\n",
        "plt.grid()\n",
        "\n",
        "fig = plt.figure(2,figsize=(7,7))\n",
        "\n",
        "plt.subplot(2,4,1)\n",
        "plt.title(\"Conv Layer Four\")\n",
        "sns.violinplot(y=layer4_weights,color='r')\n",
        "plt.grid()\n",
        "\n",
        "plt.subplot(2,4,2)\n",
        "plt.title(\"Conv Layer Five\")\n",
        "sns.violinplot(y=layer5_weights,color='r')\n",
        "plt.grid()\n",
        "\n",
        "plt.subplot(2,4,3)\n",
        "plt.title(\"Dense Layer One\")\n",
        "sns.violinplot(y=layer6_weights,color='r')\n",
        "plt.grid()\n",
        "\n",
        "plt.subplot(2,4,4)\n",
        "plt.title(\"Output Layer\")\n",
        "sns.violinplot(y=output_weights,color='b')\n",
        "plt.grid()"
      ],
      "execution_count": 0,
      "outputs": [
        {
          "output_type": "display_data",
          "data": {
            "image/png": "[encoded data removed]",
            "text/plain": [
              "<Figure size 504x504 with 3 Axes>"
            ]
          },
          "metadata": {
            "tags": []
          }
        },
        {
          "output_type": "display_data",
          "data": {
            "image/png": "[encoded data removed]",
            "text/plain": [
              "<Figure size 504x504 with 4 Axes>"
            ]
          },
          "metadata": {
            "tags": []
          }
        }
      ]
    },
    {
      "cell_type": "markdown",
      "metadata": {
        "colab_type": "text",
        "id": "7Z1QYoTWIzQB"
      },
      "source": [
        " **Observation:**\n",
        "                                          The weights are not too large and not too small. The weights are normally distributed."
      ]
    },
    {
      "cell_type": "markdown",
      "metadata": {
        "colab_type": "text",
        "id": "XT9UI3U9IzQC"
      },
      "source": [
        "#### 4.2.3 **Model Evaluation:**"
      ]
    },
    {
      "cell_type": "code",
      "metadata": {
        "colab_type": "code",
        "id": "a5EsGoTGIzQD",
        "colab": {}
      },
      "source": [
        "# Refernces\n",
        "# https://keras.io/models/model/#evaluate\n",
        "\n",
        "evaluate_data=model.evaluate(X_test,Y_test,verbose=0)"
      ],
      "execution_count": 0,
      "outputs": []
    },
    {
      "cell_type": "code",
      "metadata": {
        "colab_type": "code",
        "outputId": "c86270e8-123b-4e3c-b6cf-bfe47a14502a",
        "id": "3M2ic5hCIzQF",
        "colab": {
          "base_uri": "https://localhost:8080/",
          "height": 119
        }
      },
      "source": [
        "evaluate_loss = evaluate_data[0]\n",
        "evaluate_acc  = evaluate_data[1]\n",
        "\n",
        "print(\" Evaluate Loss\")\n",
        "print(\"=\"*100)\n",
        "print(evaluate_loss)\n",
        "\n",
        "print(\" Evaluate Accuracy\")\n",
        "print(\"=\"*100)\n",
        "print(evaluate_acc)"
      ],
      "execution_count": 0,
      "outputs": [
        {
          "output_type": "stream",
          "text": [
            " Evaluate Loss\n",
            "====================================================================================================\n",
            "0.027854739522151065\n",
            " Evaluate Accuracy\n",
            "====================================================================================================\n",
            "0.9921\n"
          ],
          "name": "stdout"
        }
      ]
    },
    {
      "cell_type": "markdown",
      "metadata": {
        "colab_type": "text",
        "id": "zhervg0GIzQJ"
      },
      "source": [
        "#### 4.2.4 **Model Predict:**"
      ]
    },
    {
      "cell_type": "code",
      "metadata": {
        "colab_type": "code",
        "outputId": "f427d0c3-498b-4d5f-b2ae-0c081dd27b73",
        "id": "0L0VjdpsIzQK",
        "colab": {
          "base_uri": "https://localhost:8080/",
          "height": 34
        }
      },
      "source": [
        "# References\n",
        "# https://towardsdatascience.com/image-classification-in-10-minutes-with-mnist-dataset-54c35b77a38d\n",
        "# https://keras.io/models/model/#predict\n",
        "\n",
        "test_data=X_test[1500].reshape(1,28,28,1)\n",
        "test_data.shape"
      ],
      "execution_count": 0,
      "outputs": [
        {
          "output_type": "execute_result",
          "data": {
            "text/plain": [
              "(1, 28, 28, 1)"
            ]
          },
          "metadata": {
            "tags": []
          },
          "execution_count": 61
        }
      ]
    },
    {
      "cell_type": "code",
      "metadata": {
        "colab_type": "code",
        "id": "C7F9hx9BIzQO",
        "colab": {}
      },
      "source": [
        "pred_label = model.predict(test_data)"
      ],
      "execution_count": 0,
      "outputs": []
    },
    {
      "cell_type": "code",
      "metadata": {
        "colab_type": "code",
        "outputId": "6abb520b-064e-407b-da12-9041edc9cbe0",
        "id": "XBm_9z_YIzQR",
        "colab": {
          "base_uri": "https://localhost:8080/",
          "height": 119
        }
      },
      "source": [
        "print(\"The Actual Label of the predicted data\")\n",
        "print(\"=\"*100)\n",
        "print(Y_test[1500].argmax())\n",
        "print(\"The Predicted Label of the predicted data\")\n",
        "print(\"=\"*100)\n",
        "print(pred_label.argmax())"
      ],
      "execution_count": 0,
      "outputs": [
        {
          "output_type": "stream",
          "text": [
            "The Actual Label of the predicted data\n",
            "====================================================================================================\n",
            "7\n",
            "The Predicted Label of the predicted data\n",
            "====================================================================================================\n",
            "7\n"
          ],
          "name": "stdout"
        }
      ]
    },
    {
      "cell_type": "markdown",
      "metadata": {
        "colab_type": "text",
        "id": "Sgx5fjoYIzQU"
      },
      "source": [
        "#### 4.2.5 **Observation:**"
      ]
    },
    {
      "cell_type": "code",
      "metadata": {
        "colab_type": "code",
        "outputId": "6459cbd3-7b8f-4bab-cc43-7bc235b5c8de",
        "id": "LTWq-OuqIzQZ",
        "colab": {
          "base_uri": "https://localhost:8080/",
          "height": 187
        }
      },
      "source": [
        "\n",
        "a=PrettyTable()\n",
        "b=PrettyTable()\n",
        "b.field_names = [\"Initialization\",\"Optimizer\",\"Dropout rate\",\"Batch Size\",\"Epochs\"]\n",
        "b.add_row([\"Xavier/Glorot\",\"Adam\",\"Nil\",200,10])\n",
        "a.field_names = [\"Conv Layer\",\"Kernel Size\",\"Train loss\",\"Val_loss\",\"Test_loss\",\"Train_acc\",\"Val_acc\",\"Test_acc\"]\n",
        "a.add_row([5,\"5x5\",0.0135,0.0430 ,0.0278,0.9958,0.9901,0.9921])\n",
        "print(b)\n",
        "print(a)\n"
      ],
      "execution_count": 0,
      "outputs": [
        {
          "output_type": "stream",
          "text": [
            "+----------------+-----------+--------------+------------+--------+\n",
            "| Initialization | Optimizer | Dropout rate | Batch Size | Epochs |\n",
            "+----------------+-----------+--------------+------------+--------+\n",
            "| Xavier/Glorot  |    Adam   |     Nil      |    200     |   10   |\n",
            "+----------------+-----------+--------------+------------+--------+\n",
            "+------------+-------------+------------+----------+-----------+-----------+---------+----------+\n",
            "| Conv Layer | Kernel Size | Train loss | Val_loss | Test_loss | Train_acc | Val_acc | Test_acc |\n",
            "+------------+-------------+------------+----------+-----------+-----------+---------+----------+\n",
            "|     5      |     5x5     |   0.0135   |  0.043   |   0.0278  |   0.9958  |  0.9901 |  0.9921  |\n",
            "+------------+-------------+------------+----------+-----------+-----------+---------+----------+\n"
          ],
          "name": "stdout"
        }
      ]
    },
    {
      "cell_type": "markdown",
      "metadata": {
        "colab_type": "text",
        "id": "EqfOc9tQTKYX"
      },
      "source": [
        "### **4.3.  Seven ConvNet Layers  followed by MLP :** "
      ]
    },
    {
      "cell_type": "markdown",
      "metadata": {
        "colab_type": "text",
        "id": "ufF9tAlnTKYZ"
      },
      "source": [
        "#### 4.3.1 **Sequence Model :**"
      ]
    },
    {
      "cell_type": "code",
      "metadata": {
        "colab_type": "code",
        "id": "06iaQc2fTKYa",
        "colab": {}
      },
      "source": [
        "# References\n",
        "# https://stackoverflow.com/questions/45013060/how-to-do-zero-padding-in-keras-conv-layer\n",
        "\n",
        "# Model Creation\n",
        "\n",
        "model = Sequential()\n",
        "\n",
        "# ConvNet layer 1\n",
        "\n",
        "model.add(Conv2D(16,kernel_size=(2,2),activation=\"relu\",input_shape=(img_rows,img_cols,1),kernel_initializer=\"glorot_normal\"))\n",
        "\n",
        "# MaxPooling layer 1\n",
        "\n",
        "model.add(MaxPooling2D(pool_size=(2,2)))\n",
        "\n",
        "# ConvNet layer 2\n",
        "\n",
        "model.add(Conv2D(32,kernel_size=(2,2),activation=\"relu\",kernel_initializer=\"glorot_normal\"))\n",
        "\n",
        "# MaxPooling layer 2\n",
        "\n",
        "model.add(MaxPooling2D(pool_size=(2,2)))\n",
        "\n",
        "# ConvNet layer 3\n",
        "\n",
        "model.add(Conv2D(44,kernel_size=(2,2),activation=\"relu\",padding=\"same\",strides=1,kernel_initializer=\"glorot_normal\"))\n",
        "\n",
        "# MaxPooling layer 3\n",
        "\n",
        "model.add(MaxPooling2D(pool_size=(2,2),padding='same',strides=1))\n",
        "\n",
        "# ConvNet layer 4\n",
        "\n",
        "model.add(Conv2D(56,kernel_size=(2,2),activation=\"relu\",padding=\"same\",strides=1,kernel_initializer=\"glorot_normal\"))\n",
        "\n",
        "# MaxPooling layer 4\n",
        "\n",
        "model.add(MaxPooling2D(pool_size=(2,2),padding=\"same\",strides=1))\n",
        "\n",
        "# ConvNet layer 5\n",
        "\n",
        "model.add(Conv2D(68,kernel_size=(2,2),activation=\"relu\",padding=\"same\",strides=1,kernel_initializer=\"glorot_normal\"))\n",
        "\n",
        "# MaxPooling layer 5\n",
        "\n",
        "model.add(MaxPooling2D(pool_size=(2,2),padding=\"same\",strides=1))\n",
        "\n",
        "# ConvNet layer 6\n",
        "\n",
        "model.add(Conv2D(80,kernel_size=(5,5),activation=\"relu\",padding=\"same\",strides=1,kernel_initializer=\"glorot_normal\"))\n",
        "\n",
        "# MaxPooling layer 6\n",
        "\n",
        "model.add(MaxPooling2D(pool_size=(2,2),padding=\"same\",strides=1))\n",
        "\n",
        "# ConvNet layer 7\n",
        "\n",
        "model.add(Conv2D(92,kernel_size=(5,5),activation=\"relu\",padding=\"same\",strides=1,kernel_initializer=\"glorot_normal\"))\n",
        "\n",
        "# MaxPooling layer 7\n",
        "\n",
        "model.add(MaxPooling2D(pool_size=(2,2),padding=\"same\",strides=1))\n",
        "\n",
        "# Flatten Layer\n",
        "\n",
        "model.add(Flatten())\n",
        "\n",
        "# Dense Layer \n",
        "\n",
        "model.add(Dense(128,activation=\"relu\",kernel_initializer=\"glorot_normal\"))\n",
        "\n",
        "\n",
        "# Output layer\n",
        "\n",
        "model.add(Dense(10,activation=\"softmax\",kernel_initializer=\"glorot_normal\"))"
      ],
      "execution_count": 0,
      "outputs": []
    },
    {
      "cell_type": "code",
      "metadata": {
        "colab_type": "code",
        "outputId": "8902d9eb-c907-4eb0-a768-d4f2cf2005ea",
        "id": "4cIzkqG_TKYf",
        "colab": {
          "base_uri": "https://localhost:8080/",
          "height": 714
        }
      },
      "source": [
        "# Model Summary\n",
        "\n",
        "model.summary()"
      ],
      "execution_count": 0,
      "outputs": [
        {
          "output_type": "stream",
          "text": [
            "_________________________________________________________________\n",
            "Layer (type)                 Output Shape              Param #   \n",
            "=================================================================\n",
            "conv2d_68 (Conv2D)           (None, 27, 27, 16)        80        \n",
            "_________________________________________________________________\n",
            "max_pooling2d_68 (MaxPooling (None, 13, 13, 16)        0         \n",
            "_________________________________________________________________\n",
            "conv2d_69 (Conv2D)           (None, 12, 12, 32)        2080      \n",
            "_________________________________________________________________\n",
            "max_pooling2d_69 (MaxPooling (None, 6, 6, 32)          0         \n",
            "_________________________________________________________________\n",
            "conv2d_70 (Conv2D)           (None, 6, 6, 44)          5676      \n",
            "_________________________________________________________________\n",
            "max_pooling2d_70 (MaxPooling (None, 6, 6, 44)          0         \n",
            "_________________________________________________________________\n",
            "conv2d_71 (Conv2D)           (None, 6, 6, 56)          9912      \n",
            "_________________________________________________________________\n",
            "max_pooling2d_71 (MaxPooling (None, 6, 6, 56)          0         \n",
            "_________________________________________________________________\n",
            "conv2d_72 (Conv2D)           (None, 6, 6, 68)          15300     \n",
            "_________________________________________________________________\n",
            "max_pooling2d_72 (MaxPooling (None, 6, 6, 68)          0         \n",
            "_________________________________________________________________\n",
            "conv2d_73 (Conv2D)           (None, 6, 6, 80)          136080    \n",
            "_________________________________________________________________\n",
            "max_pooling2d_73 (MaxPooling (None, 6, 6, 80)          0         \n",
            "_________________________________________________________________\n",
            "conv2d_74 (Conv2D)           (None, 6, 6, 92)          184092    \n",
            "_________________________________________________________________\n",
            "max_pooling2d_74 (MaxPooling (None, 6, 6, 92)          0         \n",
            "_________________________________________________________________\n",
            "flatten_12 (Flatten)         (None, 3312)              0         \n",
            "_________________________________________________________________\n",
            "dense_23 (Dense)             (None, 128)               424064    \n",
            "_________________________________________________________________\n",
            "dense_24 (Dense)             (None, 10)                1290      \n",
            "=================================================================\n",
            "Total params: 778,574\n",
            "Trainable params: 778,574\n",
            "Non-trainable params: 0\n",
            "_________________________________________________________________\n"
          ],
          "name": "stdout"
        }
      ]
    },
    {
      "cell_type": "code",
      "metadata": {
        "colab_type": "code",
        "id": "Q6IQn56STKYk",
        "colab": {}
      },
      "source": [
        "# Model compilation\n",
        "\n",
        "model.compile(optimizer=\"adam\",loss=\"categorical_crossentropy\",metrics=[\"accuracy\"])"
      ],
      "execution_count": 0,
      "outputs": []
    },
    {
      "cell_type": "markdown",
      "metadata": {
        "colab_type": "text",
        "id": "0RPIP1rDTKYm"
      },
      "source": [
        "#### 4.3.2 **Model Training:**"
      ]
    },
    {
      "cell_type": "code",
      "metadata": {
        "colab_type": "code",
        "outputId": "2e41d0ef-48e2-48b1-893e-c0af16bf4905",
        "id": "oGQewKCSTKYn",
        "colab": {
          "base_uri": "https://localhost:8080/",
          "height": 374
        }
      },
      "source": [
        "# model training\n",
        "\n",
        "History=model.fit(X_train,Y_train,batch_size=200,epochs=10,verbose=1,validation_split=0.2)"
      ],
      "execution_count": 0,
      "outputs": [
        {
          "output_type": "stream",
          "text": [
            "Train on 48000 samples, validate on 12000 samples\n",
            "Epoch 1/10\n",
            "48000/48000 [==============================] - 163s 3ms/step - loss: 0.6238 - acc: 0.7815 - val_loss: 0.1439 - val_acc: 0.9534\n",
            "Epoch 2/10\n",
            "48000/48000 [==============================] - 159s 3ms/step - loss: 0.1213 - acc: 0.9612 - val_loss: 0.0853 - val_acc: 0.9734\n",
            "Epoch 3/10\n",
            "48000/48000 [==============================] - 159s 3ms/step - loss: 0.0770 - acc: 0.9757 - val_loss: 0.0633 - val_acc: 0.9793\n",
            "Epoch 4/10\n",
            "48000/48000 [==============================] - 157s 3ms/step - loss: 0.0616 - acc: 0.9805 - val_loss: 0.0801 - val_acc: 0.9758\n",
            "Epoch 5/10\n",
            "48000/48000 [==============================] - 159s 3ms/step - loss: 0.0497 - acc: 0.9841 - val_loss: 0.0711 - val_acc: 0.9783\n",
            "Epoch 6/10\n",
            "48000/48000 [==============================] - 158s 3ms/step - loss: 0.0433 - acc: 0.9865 - val_loss: 0.0506 - val_acc: 0.9829\n",
            "Epoch 7/10\n",
            "48000/48000 [==============================] - 157s 3ms/step - loss: 0.0366 - acc: 0.9881 - val_loss: 0.0431 - val_acc: 0.9876\n",
            "Epoch 8/10\n",
            "48000/48000 [==============================] - 157s 3ms/step - loss: 0.0299 - acc: 0.9900 - val_loss: 0.0535 - val_acc: 0.9847\n",
            "Epoch 9/10\n",
            "48000/48000 [==============================] - 158s 3ms/step - loss: 0.0313 - acc: 0.9897 - val_loss: 0.0455 - val_acc: 0.9863\n",
            "Epoch 10/10\n",
            "48000/48000 [==============================] - 159s 3ms/step - loss: 0.0270 - acc: 0.9908 - val_loss: 0.0394 - val_acc: 0.9882\n"
          ],
          "name": "stdout"
        }
      ]
    },
    {
      "cell_type": "code",
      "metadata": {
        "colab_type": "code",
        "outputId": "15db0b0d-6f8e-4172-e2f9-b86e86187cd2",
        "id": "tktDnxSNTKYs",
        "colab": {
          "base_uri": "https://localhost:8080/",
          "height": 295
        }
      },
      "source": [
        "# References\n",
        "# https://machinelearningmastery.com/display-deep-learning-model-training-history-in-keras/\n",
        "# https://keras.io/models/sequential/\n",
        "\n",
        "# Plotting Loss vs Epoch\n",
        "\n",
        "plt.close()\n",
        "plt.plot(History.history['loss'],'b',label=\"Training Loss\")\n",
        "plt.plot(History.history['val_loss'],'r',label=\"Validation Loss\")\n",
        "plt.title(\"Loss vs Epoch\")\n",
        "plt.xlabel(\"Epochs\")\n",
        "plt.ylabel(\"Loss\")\n",
        "plt.legend()\n",
        "plt.grid()\n",
        "plt.show()"
      ],
      "execution_count": 0,
      "outputs": [
        {
          "output_type": "display_data",
          "data": {
            "image/png": "[encoded data removed]",
            "text/plain": [
              "<Figure size 432x288 with 1 Axes>"
            ]
          },
          "metadata": {
            "tags": []
          }
        }
      ]
    },
    {
      "cell_type": "code",
      "metadata": {
        "colab_type": "code",
        "outputId": "743069c3-e3f4-456b-f2c3-bda0229955bb",
        "id": "CXuIBiFBTKYw",
        "colab": {
          "base_uri": "https://localhost:8080/",
          "height": 295
        }
      },
      "source": [
        "# Plotting Accuracy vs Epoch\n",
        "\n",
        "plt.close()\n",
        "plt.plot(History.history['acc'],'b',label=\"Training Accuracy\")\n",
        "plt.plot(History.history['val_acc'],'r',label=\"Validation Accuracy\")\n",
        "plt.title(\"Accuracy vs Epoch\")\n",
        "plt.xlabel(\"Epochs\")\n",
        "plt.ylabel(\"Accuracy\")\n",
        "plt.legend()\n",
        "plt.grid()\n",
        "plt.show()"
      ],
      "execution_count": 0,
      "outputs": [
        {
          "output_type": "display_data",
          "data": {
            "image/png": "[encoded data removed]",
            "text/plain": [
              "<Figure size 432x288 with 1 Axes>"
            ]
          },
          "metadata": {
            "tags": []
          }
        }
      ]
    },
    {
      "cell_type": "code",
      "metadata": {
        "colab_type": "code",
        "outputId": "838281f1-db37-4b18-c8d3-07f6194df48d",
        "id": "pFa_NOWiTKY1",
        "colab": {
          "base_uri": "https://localhost:8080/",
          "height": 326
        }
      },
      "source": [
        "# References\n",
        "# https://stackoverflow.com/questions/43715047/keras-2-x-get-weights-of-layer\n",
        "\n",
        "\n",
        "for layer in model.layers:\n",
        "  print(layer.get_config())"
      ],
      "execution_count": 0,
      "outputs": [
        {
          "output_type": "stream",
          "text": [
            "{'name': 'conv2d_68', 'trainable': True, 'batch_input_shape': (None, 28, 28, 1), 'dtype': 'float32', 'filters': 16, 'kernel_size': (2, 2), 'strides': (1, 1), 'padding': 'valid', 'data_format': 'channels_last', 'dilation_rate': (1, 1), 'activation': 'relu', 'use_bias': True, 'kernel_initializer': {'class_name': 'VarianceScaling', 'config': {'scale': 1.0, 'mode': 'fan_avg', 'distribution': 'normal', 'seed': None}}, 'bias_initializer': {'class_name': 'Zeros', 'config': {}}, 'kernel_regularizer': None, 'bias_regularizer': None, 'activity_regularizer': None, 'kernel_constraint': None, 'bias_constraint': None}\n",
            "{'name': 'max_pooling2d_68', 'trainable': True, 'pool_size': (2, 2), 'padding': 'valid', 'strides': (2, 2), 'data_format': 'channels_last'}\n",
            "{'name': 'conv2d_69', 'trainable': True, 'filters': 32, 'kernel_size': (2, 2), 'strides': (1, 1), 'padding': 'valid', 'data_format': 'channels_last', 'dilation_rate': (1, 1), 'activation': 'relu', 'use_bias': True, 'kernel_initializer': {'class_name': 'VarianceScaling', 'config': {'scale': 1.0, 'mode': 'fan_avg', 'distribution': 'normal', 'seed': None}}, 'bias_initializer': {'class_name': 'Zeros', 'config': {}}, 'kernel_regularizer': None, 'bias_regularizer': None, 'activity_regularizer': None, 'kernel_constraint': None, 'bias_constraint': None}\n",
            "{'name': 'max_pooling2d_69', 'trainable': True, 'pool_size': (2, 2), 'padding': 'valid', 'strides': (2, 2), 'data_format': 'channels_last'}\n",
            "{'name': 'conv2d_70', 'trainable': True, 'filters': 44, 'kernel_size': (2, 2), 'strides': (1, 1), 'padding': 'same', 'data_format': 'channels_last', 'dilation_rate': (1, 1), 'activation': 'relu', 'use_bias': True, 'kernel_initializer': {'class_name': 'VarianceScaling', 'config': {'scale': 1.0, 'mode': 'fan_avg', 'distribution': 'normal', 'seed': None}}, 'bias_initializer': {'class_name': 'Zeros', 'config': {}}, 'kernel_regularizer': None, 'bias_regularizer': None, 'activity_regularizer': None, 'kernel_constraint': None, 'bias_constraint': None}\n",
            "{'name': 'max_pooling2d_70', 'trainable': True, 'pool_size': (2, 2), 'padding': 'same', 'strides': (1, 1), 'data_format': 'channels_last'}\n",
            "{'name': 'conv2d_71', 'trainable': True, 'filters': 56, 'kernel_size': (2, 2), 'strides': (1, 1), 'padding': 'same', 'data_format': 'channels_last', 'dilation_rate': (1, 1), 'activation': 'relu', 'use_bias': True, 'kernel_initializer': {'class_name': 'VarianceScaling', 'config': {'scale': 1.0, 'mode': 'fan_avg', 'distribution': 'normal', 'seed': None}}, 'bias_initializer': {'class_name': 'Zeros', 'config': {}}, 'kernel_regularizer': None, 'bias_regularizer': None, 'activity_regularizer': None, 'kernel_constraint': None, 'bias_constraint': None}\n",
            "{'name': 'max_pooling2d_71', 'trainable': True, 'pool_size': (2, 2), 'padding': 'same', 'strides': (1, 1), 'data_format': 'channels_last'}\n",
            "{'name': 'conv2d_72', 'trainable': True, 'filters': 68, 'kernel_size': (2, 2), 'strides': (1, 1), 'padding': 'same', 'data_format': 'channels_last', 'dilation_rate': (1, 1), 'activation': 'relu', 'use_bias': True, 'kernel_initializer': {'class_name': 'VarianceScaling', 'config': {'scale': 1.0, 'mode': 'fan_avg', 'distribution': 'normal', 'seed': None}}, 'bias_initializer': {'class_name': 'Zeros', 'config': {}}, 'kernel_regularizer': None, 'bias_regularizer': None, 'activity_regularizer': None, 'kernel_constraint': None, 'bias_constraint': None}\n",
            "{'name': 'max_pooling2d_72', 'trainable': True, 'pool_size': (2, 2), 'padding': 'same', 'strides': (1, 1), 'data_format': 'channels_last'}\n",
            "{'name': 'conv2d_73', 'trainable': True, 'filters': 80, 'kernel_size': (5, 5), 'strides': (1, 1), 'padding': 'same', 'data_format': 'channels_last', 'dilation_rate': (1, 1), 'activation': 'relu', 'use_bias': True, 'kernel_initializer': {'class_name': 'VarianceScaling', 'config': {'scale': 1.0, 'mode': 'fan_avg', 'distribution': 'normal', 'seed': None}}, 'bias_initializer': {'class_name': 'Zeros', 'config': {}}, 'kernel_regularizer': None, 'bias_regularizer': None, 'activity_regularizer': None, 'kernel_constraint': None, 'bias_constraint': None}\n",
            "{'name': 'max_pooling2d_73', 'trainable': True, 'pool_size': (2, 2), 'padding': 'same', 'strides': (1, 1), 'data_format': 'channels_last'}\n",
            "{'name': 'conv2d_74', 'trainable': True, 'filters': 92, 'kernel_size': (5, 5), 'strides': (1, 1), 'padding': 'same', 'data_format': 'channels_last', 'dilation_rate': (1, 1), 'activation': 'relu', 'use_bias': True, 'kernel_initializer': {'class_name': 'VarianceScaling', 'config': {'scale': 1.0, 'mode': 'fan_avg', 'distribution': 'normal', 'seed': None}}, 'bias_initializer': {'class_name': 'Zeros', 'config': {}}, 'kernel_regularizer': None, 'bias_regularizer': None, 'activity_regularizer': None, 'kernel_constraint': None, 'bias_constraint': None}\n",
            "{'name': 'max_pooling2d_74', 'trainable': True, 'pool_size': (2, 2), 'padding': 'same', 'strides': (1, 1), 'data_format': 'channels_last'}\n",
            "{'name': 'flatten_12', 'trainable': True, 'data_format': 'channels_last'}\n",
            "{'name': 'dense_23', 'trainable': True, 'units': 128, 'activation': 'relu', 'use_bias': True, 'kernel_initializer': {'class_name': 'VarianceScaling', 'config': {'scale': 1.0, 'mode': 'fan_avg', 'distribution': 'normal', 'seed': None}}, 'bias_initializer': {'class_name': 'Zeros', 'config': {}}, 'kernel_regularizer': None, 'bias_regularizer': None, 'activity_regularizer': None, 'kernel_constraint': None, 'bias_constraint': None}\n",
            "{'name': 'dense_24', 'trainable': True, 'units': 10, 'activation': 'softmax', 'use_bias': True, 'kernel_initializer': {'class_name': 'VarianceScaling', 'config': {'scale': 1.0, 'mode': 'fan_avg', 'distribution': 'normal', 'seed': None}}, 'bias_initializer': {'class_name': 'Zeros', 'config': {}}, 'kernel_regularizer': None, 'bias_regularizer': None, 'activity_regularizer': None, 'kernel_constraint': None, 'bias_constraint': None}\n"
          ],
          "name": "stdout"
        }
      ]
    },
    {
      "cell_type": "code",
      "metadata": {
        "colab_type": "code",
        "outputId": "9c754fb4-1135-4ad9-a7ce-319e2459426c",
        "id": "brVFHepHTKY4",
        "colab": {
          "base_uri": "https://localhost:8080/",
          "height": 476
        }
      },
      "source": [
        "# References\n",
        "# https://stackoverflow.com/questions/43715047/keras-2-x-get-weights-of-layer\n",
        "\n",
        "layer1_weights = model.layers[0].get_weights()[0]\n",
        "layer2_weights = model.layers[2].get_weights()[0]\n",
        "layer3_weights = model.layers[4].get_weights()[0]\n",
        "layer4_weights = model.layers[6].get_weights()[0]\n",
        "layer5_weights = model.layers[8].get_weights()[0]\n",
        "layer6_weights = model.layers[10].get_weights()[0]\n",
        "layer7_weights = model.layers[12].get_weights()[0]\n",
        "layer8_weights = model.layers[15].get_weights()[0]\n",
        "output_weights = model.layers[16].get_weights()[0]\n",
        "\n",
        "print(\" Conv Layer One Weight Matrix Shape\")\n",
        "print(\"=\"*125)\n",
        "print(layer1_weights.shape)\n",
        "print(\" Conv Layer Two Weight Matrix Shape\")\n",
        "print(\"=\"*125)\n",
        "print(layer2_weights.shape)\n",
        "print(\" Conv Layer Three Weight Matrix Shape\")\n",
        "print(\"=\"*125)\n",
        "print(layer3_weights.shape)\n",
        "print(\" Conv Layer Four Weight Matrix Shape\")\n",
        "print(\"=\"*125)\n",
        "print(layer4_weights.shape)\n",
        "print(\" Conv Layer Five Weight Matrix Shape\")\n",
        "print(\"=\"*125)\n",
        "print(layer5_weights.shape)\n",
        "print(\" Conv Layer Six Weight Matrix Shape\")\n",
        "print(\"=\"*125)\n",
        "print(layer6_weights.shape)\n",
        "print(\" Conv Layer Seven Weight Matrix Shape\")\n",
        "print(\"=\"*125)\n",
        "print(layer7_weights.shape)\n",
        "print(\" Dense Layer One Weight Matrix Shape\")\n",
        "print(\"=\"*125)\n",
        "print(layer8_weights.shape)\n",
        "print(\" Output Layer Weight Matrix Shape\")\n",
        "print(\"=\"*125)\n",
        "print(output_weights.shape)"
      ],
      "execution_count": 0,
      "outputs": [
        {
          "output_type": "stream",
          "text": [
            " Conv Layer One Weight Matrix Shape\n",
            "=============================================================================================================================\n",
            "(2, 2, 1, 16)\n",
            " Conv Layer Two Weight Matrix Shape\n",
            "=============================================================================================================================\n",
            "(2, 2, 16, 32)\n",
            " Conv Layer Three Weight Matrix Shape\n",
            "=============================================================================================================================\n",
            "(2, 2, 32, 44)\n",
            " Conv Layer Four Weight Matrix Shape\n",
            "=============================================================================================================================\n",
            "(2, 2, 44, 56)\n",
            " Conv Layer Five Weight Matrix Shape\n",
            "=============================================================================================================================\n",
            "(2, 2, 56, 68)\n",
            " Conv Layer Six Weight Matrix Shape\n",
            "=============================================================================================================================\n",
            "(5, 5, 68, 80)\n",
            " Conv Layer Seven Weight Matrix Shape\n",
            "=============================================================================================================================\n",
            "(5, 5, 80, 92)\n",
            " Dense Layer One Weight Matrix Shape\n",
            "=============================================================================================================================\n",
            "(3312, 128)\n",
            " Output Layer Weight Matrix Shape\n",
            "=============================================================================================================================\n",
            "(128, 10)\n"
          ],
          "name": "stdout"
        }
      ]
    },
    {
      "cell_type": "code",
      "metadata": {
        "colab_type": "code",
        "outputId": "5e058043-f69c-470a-cce3-1524e10f8198",
        "id": "VcvmR8knTKY8",
        "colab": {
          "base_uri": "https://localhost:8080/",
          "height": 816
        }
      },
      "source": [
        "# References \n",
        "# https://seaborn.pydata.org/generated/seaborn.violinplot.html\n",
        "# https://matplotlib.org/api/_as_gen/matplotlib.pyplot.subplot.html\n",
        "\n",
        "fig = plt.figure(1,figsize=(7,7))\n",
        "fig.suptitle(\"Weight Matrix\")\n",
        "plt.subplot(1, 3, 1)\n",
        "plt.title(\"Conv Layer One\")\n",
        "sns.violinplot(y=layer1_weights,color='r')\n",
        "plt.grid()\n",
        "\n",
        "plt.subplot(1,3,2)\n",
        "plt.title(\"Conv Layer Two\")\n",
        "sns.violinplot(y=layer2_weights,color='g')\n",
        "plt.grid()\n",
        "\n",
        "plt.subplot(1,3,3)\n",
        "plt.title(\"Conv Layer Three\")\n",
        "sns.violinplot(y=layer3_weights,color='b')\n",
        "plt.grid()\n",
        "\n",
        "fig = plt.figure(2,figsize=(7,7))\n",
        "\n",
        "plt.subplot(2,3,1)\n",
        "plt.title(\"Conv Layer Four\")\n",
        "sns.violinplot(y=layer4_weights,color='r')\n",
        "plt.grid()\n",
        "\n",
        "plt.subplot(2,3,2)\n",
        "plt.title(\"Conv Layer Five\")\n",
        "sns.violinplot(y=layer5_weights,color='r')\n",
        "plt.grid()\n",
        "\n",
        "plt.subplot(2,3,3)\n",
        "plt.title(\"Conv Layer Six\")\n",
        "sns.violinplot(y=layer6_weights,color='r')\n",
        "plt.grid()\n",
        "\n",
        "fig = plt.figure(3,figsize=(7,7))\n",
        "\n",
        "plt.subplot(3,3,1)\n",
        "plt.title(\"Conv Layer Seven\")\n",
        "sns.violinplot(y=layer7_weights,color='b')\n",
        "plt.grid()\n",
        "\n",
        "plt.subplot(3,3,2)\n",
        "plt.title(\"Dense Layer One\")\n",
        "sns.violinplot(y=layer8_weights,color='b')\n",
        "plt.grid()\n",
        "\n",
        "plt.subplot(3,3,3)\n",
        "plt.title(\"Output Layer\")\n",
        "sns.violinplot(y=output_weights,color='b')\n",
        "plt.grid()"
      ],
      "execution_count": 0,
      "outputs": [
        {
          "output_type": "display_data",
          "data": {
            "image/png": "[encoded data removed]",
            "text/plain": [
              "<Figure size 504x504 with 3 Axes>"
            ]
          },
          "metadata": {
            "tags": []
          }
        },
        {
          "output_type": "display_data",
          "data": {
            "image/png": "[encoded data removed]",
            "text/plain": [
              "<Figure size 504x504 with 3 Axes>"
            ]
          },
          "metadata": {
            "tags": []
          }
        },
        {
          "output_type": "display_data",
          "data": {
            "image/png": "[encoded data removed]",
            "text/plain": [
              "<Figure size 504x504 with 3 Axes>"
            ]
          },
          "metadata": {
            "tags": []
          }
        }
      ]
    },
    {
      "cell_type": "markdown",
      "metadata": {
        "colab_type": "text",
        "id": "VM_WCZ3cTKZA"
      },
      "source": [
        " **Observation:**\n",
        "                                          The weights are not too large and not too small. The weights are normally distributed."
      ]
    },
    {
      "cell_type": "markdown",
      "metadata": {
        "colab_type": "text",
        "id": "ArCDlkcuTKZD"
      },
      "source": [
        "#### 4.3.3 **Model Evaluation:**"
      ]
    },
    {
      "cell_type": "code",
      "metadata": {
        "colab_type": "code",
        "id": "A8gAdvBpTKZE",
        "colab": {}
      },
      "source": [
        "# Refernces\n",
        "# https://keras.io/models/model/#evaluate\n",
        "\n",
        "evaluate_data=model.evaluate(X_test,Y_test,verbose=0)"
      ],
      "execution_count": 0,
      "outputs": []
    },
    {
      "cell_type": "code",
      "metadata": {
        "colab_type": "code",
        "outputId": "fa1859b4-680a-4dc4-8b6e-3ec8d8d4ff30",
        "id": "bam4iZn6TKZJ",
        "colab": {
          "base_uri": "https://localhost:8080/",
          "height": 119
        }
      },
      "source": [
        "evaluate_loss = evaluate_data[0]\n",
        "evaluate_acc  = evaluate_data[1]\n",
        "\n",
        "print(\" Evaluate Loss\")\n",
        "print(\"=\"*100)\n",
        "print(evaluate_loss)\n",
        "\n",
        "print(\" Evaluate Accuracy\")\n",
        "print(\"=\"*100)\n",
        "print(evaluate_acc)"
      ],
      "execution_count": 0,
      "outputs": [
        {
          "output_type": "stream",
          "text": [
            " Evaluate Loss\n",
            "====================================================================================================\n",
            "0.03270135420578881\n",
            " Evaluate Accuracy\n",
            "====================================================================================================\n",
            "0.9893\n"
          ],
          "name": "stdout"
        }
      ]
    },
    {
      "cell_type": "markdown",
      "metadata": {
        "colab_type": "text",
        "id": "-fYabOy9TKZP"
      },
      "source": [
        "#### 4.3.4 **Model Predict:**"
      ]
    },
    {
      "cell_type": "code",
      "metadata": {
        "colab_type": "code",
        "outputId": "31ec4e05-cfeb-4e36-be6f-bd2d9ec085e2",
        "id": "Dnl3j_rfTKZQ",
        "colab": {
          "base_uri": "https://localhost:8080/",
          "height": 34
        }
      },
      "source": [
        "# References\n",
        "# https://towardsdatascience.com/image-classification-in-10-minutes-with-mnist-dataset-54c35b77a38d\n",
        "# https://keras.io/models/model/#predict\n",
        "\n",
        "test_data=X_test[2500].reshape(1,28,28,1)\n",
        "test_data.shape"
      ],
      "execution_count": 0,
      "outputs": [
        {
          "output_type": "execute_result",
          "data": {
            "text/plain": [
              "(1, 28, 28, 1)"
            ]
          },
          "metadata": {
            "tags": []
          },
          "execution_count": 103
        }
      ]
    },
    {
      "cell_type": "code",
      "metadata": {
        "colab_type": "code",
        "id": "Lrw1J0yqTKZW",
        "colab": {}
      },
      "source": [
        "pred_label = model.predict(test_data)"
      ],
      "execution_count": 0,
      "outputs": []
    },
    {
      "cell_type": "code",
      "metadata": {
        "colab_type": "code",
        "outputId": "82dcf2d4-ccb1-436c-eaa2-1c532aace5a9",
        "id": "VQE2lmFwTKZZ",
        "colab": {
          "base_uri": "https://localhost:8080/",
          "height": 119
        }
      },
      "source": [
        "print(\"The Actual Label of the predicted data\")\n",
        "print(\"=\"*100)\n",
        "print(Y_test[2500].argmax())\n",
        "print(\"The Predicted Label of the predicted data\")\n",
        "print(\"=\"*100)\n",
        "print(pred_label.argmax())"
      ],
      "execution_count": 0,
      "outputs": [
        {
          "output_type": "stream",
          "text": [
            "The Actual Label of the predicted data\n",
            "====================================================================================================\n",
            "2\n",
            "The Predicted Label of the predicted data\n",
            "====================================================================================================\n",
            "2\n"
          ],
          "name": "stdout"
        }
      ]
    },
    {
      "cell_type": "markdown",
      "metadata": {
        "colab_type": "text",
        "id": "y5JFoM-TTKZe"
      },
      "source": [
        "#### 4.3.5 **Observation:**"
      ]
    },
    {
      "cell_type": "code",
      "metadata": {
        "colab_type": "code",
        "outputId": "227d2642-3c65-41e6-8984-0935606e4de0",
        "id": "6PMyrQG9TKZf",
        "colab": {
          "base_uri": "https://localhost:8080/",
          "height": 187
        }
      },
      "source": [
        "\n",
        "a=PrettyTable()\n",
        "b=PrettyTable()\n",
        "b.field_names = [\"Initialization\",\"Optimizer\",\"Dropout rate\",\"Batch Size\",\"Epochs\"]\n",
        "b.add_row([\"Xavier/Glorot\",\"Adam\",\"Nil\",200,10])\n",
        "a.field_names = [\"Conv Layer\",\"Kernel Size\",\"Train loss\",\"Val_loss\",\"Test_loss\",\"Train_acc\",\"Val_acc\",\"Test_acc\"]\n",
        "a.add_row([7,\"2x2\",0.0270,0.0394 ,0.0327,0.9908,0.9882,0.9893])\n",
        "print(b)\n",
        "print(a)"
      ],
      "execution_count": 0,
      "outputs": [
        {
          "output_type": "stream",
          "text": [
            "+----------------+-----------+--------------+------------+--------+\n",
            "| Initialization | Optimizer | Dropout rate | Batch Size | Epochs |\n",
            "+----------------+-----------+--------------+------------+--------+\n",
            "| Xavier/Glorot  |    Adam   |     Nil      |    200     |   10   |\n",
            "+----------------+-----------+--------------+------------+--------+\n",
            "+------------+-------------+------------+----------+-----------+-----------+---------+----------+\n",
            "| Conv Layer | Kernel Size | Train loss | Val_loss | Test_loss | Train_acc | Val_acc | Test_acc |\n",
            "+------------+-------------+------------+----------+-----------+-----------+---------+----------+\n",
            "|     7      |     2x2     |   0.027    |  0.0394  |   0.0327  |   0.9908  |  0.9882 |  0.9893  |\n",
            "+------------+-------------+------------+----------+-----------+-----------+---------+----------+\n"
          ],
          "name": "stdout"
        }
      ]
    },
    {
      "cell_type": "markdown",
      "metadata": {
        "id": "UFnqnFNRQT47",
        "colab_type": "text"
      },
      "source": [
        "### **4.4.  Three ConvNet Layers  followed by MLP :** "
      ]
    },
    {
      "cell_type": "markdown",
      "metadata": {
        "id": "LkXH3jOHSot4",
        "colab_type": "text"
      },
      "source": [
        "#### 4.4.1 **Sequential Model:**"
      ]
    },
    {
      "cell_type": "code",
      "metadata": {
        "colab_type": "code",
        "outputId": "65ec5d72-c62b-4eed-8e88-05c708b27879",
        "id": "zI3DHzOHQ4_S",
        "colab": {
          "base_uri": "https://localhost:8080/",
          "height": 88
        }
      },
      "source": [
        "# References\n",
        "# https://stackoverflow.com/questions/45013060/how-to-do-zero-padding-in-keras-conv-layer\n",
        "\n",
        "# Model Creation\n",
        "\n",
        "model = Sequential()\n",
        "\n",
        "# ConvNet layer 1\n",
        "\n",
        "model.add(Conv2D(32,kernel_size=(3,3),activation=\"relu\",input_shape=(img_rows,img_cols,1),kernel_initializer=\"glorot_normal\"))\n",
        "\n",
        "# ConvNet layer 2\n",
        "\n",
        "model.add(Conv2D(64,kernel_size=(3,3),activation=\"relu\",kernel_initializer=\"glorot_normal\"))\n",
        "\n",
        "# ConvNet layer 3\n",
        "\n",
        "model.add(Conv2D(96,kernel_size=(3,3),activation=\"relu\",kernel_initializer=\"glorot_normal\"))\n",
        "\n",
        "# MaxPooling layer 2\n",
        "\n",
        "model.add(MaxPooling2D(pool_size=(2,2)))\n",
        "\n",
        "# Flatten Layer\n",
        "\n",
        "model.add(Flatten())\n",
        "\n",
        "# Dropout Layer 1\n",
        "\n",
        "model.add(Dropout(0.5))\n",
        "\n",
        "# Dense Layer \n",
        "\n",
        "model.add(Dense(128,activation=\"relu\",kernel_initializer=\"glorot_normal\"))\n",
        "\n",
        "# Dropout Layer 2\n",
        "\n",
        "model.add(Dropout(0.5))\n",
        "\n",
        "# Output layer\n",
        "\n",
        "model.add(Dense(10,activation=\"softmax\",kernel_initializer=\"glorot_normal\"))"
      ],
      "execution_count": 20,
      "outputs": [
        {
          "output_type": "stream",
          "text": [
            "WARNING:tensorflow:From /usr/local/lib/python3.6/dist-packages/keras/backend/tensorflow_backend.py:3445: calling dropout (from tensorflow.python.ops.nn_ops) with keep_prob is deprecated and will be removed in a future version.\n",
            "Instructions for updating:\n",
            "Please use `rate` instead of `keep_prob`. Rate should be set to `rate = 1 - keep_prob`.\n"
          ],
          "name": "stdout"
        }
      ]
    },
    {
      "cell_type": "code",
      "metadata": {
        "colab_type": "code",
        "outputId": "bf183127-645f-4eb0-f683-e12bdeaf6452",
        "id": "PF3hxIT8Q4_a",
        "colab": {
          "base_uri": "https://localhost:8080/",
          "height": 442
        }
      },
      "source": [
        "# Model Summary\n",
        "\n",
        "model.summary()"
      ],
      "execution_count": 21,
      "outputs": [
        {
          "output_type": "stream",
          "text": [
            "_________________________________________________________________\n",
            "Layer (type)                 Output Shape              Param #   \n",
            "=================================================================\n",
            "conv2d_7 (Conv2D)            (None, 26, 26, 32)        320       \n",
            "_________________________________________________________________\n",
            "conv2d_8 (Conv2D)            (None, 24, 24, 64)        18496     \n",
            "_________________________________________________________________\n",
            "conv2d_9 (Conv2D)            (None, 22, 22, 96)        55392     \n",
            "_________________________________________________________________\n",
            "max_pooling2d_3 (MaxPooling2 (None, 11, 11, 96)        0         \n",
            "_________________________________________________________________\n",
            "flatten_3 (Flatten)          (None, 11616)             0         \n",
            "_________________________________________________________________\n",
            "dropout_1 (Dropout)          (None, 11616)             0         \n",
            "_________________________________________________________________\n",
            "dense_5 (Dense)              (None, 128)               1486976   \n",
            "_________________________________________________________________\n",
            "dropout_2 (Dropout)          (None, 128)               0         \n",
            "_________________________________________________________________\n",
            "dense_6 (Dense)              (None, 10)                1290      \n",
            "=================================================================\n",
            "Total params: 1,562,474\n",
            "Trainable params: 1,562,474\n",
            "Non-trainable params: 0\n",
            "_________________________________________________________________\n"
          ],
          "name": "stdout"
        }
      ]
    },
    {
      "cell_type": "code",
      "metadata": {
        "colab_type": "code",
        "id": "gDFpDDx9Q4_f",
        "colab": {}
      },
      "source": [
        "# Model compilation\n",
        "\n",
        "model.compile(optimizer=\"adam\",loss=\"categorical_crossentropy\",metrics=[\"accuracy\"])"
      ],
      "execution_count": 0,
      "outputs": []
    },
    {
      "cell_type": "markdown",
      "metadata": {
        "colab_type": "text",
        "id": "wkVSZYk9Q4_i"
      },
      "source": [
        "#### 4.4.2 **Model Training:**"
      ]
    },
    {
      "cell_type": "code",
      "metadata": {
        "colab_type": "code",
        "outputId": "107d8700-2c7d-40b6-b19b-2b59c135b2b1",
        "id": "qX2_a6GhQ4_k",
        "colab": {
          "base_uri": "https://localhost:8080/",
          "height": 445
        }
      },
      "source": [
        "# model training\n",
        "\n",
        "History=model.fit(X_train,Y_train,batch_size=200,epochs=10,verbose=1,validation_split=0.2)"
      ],
      "execution_count": 23,
      "outputs": [
        {
          "output_type": "stream",
          "text": [
            "WARNING:tensorflow:From /usr/local/lib/python3.6/dist-packages/tensorflow/python/ops/math_ops.py:3066: to_int32 (from tensorflow.python.ops.math_ops) is deprecated and will be removed in a future version.\n",
            "Instructions for updating:\n",
            "Use tf.cast instead.\n",
            "Train on 48000 samples, validate on 12000 samples\n",
            "Epoch 1/10\n",
            "48000/48000 [==============================] - 405s 8ms/step - loss: 0.2775 - acc: 0.9131 - val_loss: 0.0634 - val_acc: 0.9821\n",
            "Epoch 2/10\n",
            "48000/48000 [==============================] - 398s 8ms/step - loss: 0.0956 - acc: 0.9716 - val_loss: 0.0478 - val_acc: 0.9853\n",
            "Epoch 3/10\n",
            "48000/48000 [==============================] - 412s 9ms/step - loss: 0.0710 - acc: 0.9787 - val_loss: 0.0399 - val_acc: 0.9893\n",
            "Epoch 4/10\n",
            "48000/48000 [==============================] - 410s 9ms/step - loss: 0.0591 - acc: 0.9823 - val_loss: 0.0368 - val_acc: 0.9899\n",
            "Epoch 5/10\n",
            "48000/48000 [==============================] - 417s 9ms/step - loss: 0.0510 - acc: 0.9840 - val_loss: 0.0361 - val_acc: 0.9894\n",
            "Epoch 6/10\n",
            "48000/48000 [==============================] - 409s 9ms/step - loss: 0.0454 - acc: 0.9858 - val_loss: 0.0358 - val_acc: 0.9900\n",
            "Epoch 7/10\n",
            "48000/48000 [==============================] - 406s 8ms/step - loss: 0.0397 - acc: 0.9870 - val_loss: 0.0328 - val_acc: 0.9917\n",
            "Epoch 8/10\n",
            "48000/48000 [==============================] - 380s 8ms/step - loss: 0.0351 - acc: 0.9891 - val_loss: 0.0326 - val_acc: 0.9913\n",
            "Epoch 9/10\n",
            "48000/48000 [==============================] - 383s 8ms/step - loss: 0.0316 - acc: 0.9901 - val_loss: 0.0418 - val_acc: 0.9893\n",
            "Epoch 10/10\n",
            "48000/48000 [==============================] - 370s 8ms/step - loss: 0.0321 - acc: 0.9899 - val_loss: 0.0386 - val_acc: 0.9897\n"
          ],
          "name": "stdout"
        }
      ]
    },
    {
      "cell_type": "code",
      "metadata": {
        "colab_type": "code",
        "outputId": "70e50cdf-f82f-49d4-cb9b-311e41cb204c",
        "id": "aV-PuesnQ4_r",
        "colab": {
          "base_uri": "https://localhost:8080/",
          "height": 295
        }
      },
      "source": [
        "# References\n",
        "# https://machinelearningmastery.com/display-deep-learning-model-training-history-in-keras/\n",
        "# https://keras.io/models/sequential/\n",
        "\n",
        "# Plotting Loss vs Epoch\n",
        "\n",
        "plt.close()\n",
        "plt.plot(History.history['loss'],'b',label=\"Training Loss\")\n",
        "plt.plot(History.history['val_loss'],'r',label=\"Validation Loss\")\n",
        "plt.title(\"Loss vs Epoch\")\n",
        "plt.xlabel(\"Epochs\")\n",
        "plt.ylabel(\"Loss\")\n",
        "plt.legend()\n",
        "plt.grid()\n",
        "plt.show()"
      ],
      "execution_count": 24,
      "outputs": [
        {
          "output_type": "display_data",
          "data": {
            "image/png": "[encoded data removed]",
            "text/plain": [
              "<Figure size 432x288 with 1 Axes>"
            ]
          },
          "metadata": {
            "tags": []
          }
        }
      ]
    },
    {
      "cell_type": "code",
      "metadata": {
        "colab_type": "code",
        "outputId": "32a4c7cb-1300-4480-8546-3ab05d4e6574",
        "id": "fdZuOONRQ4_w",
        "colab": {
          "base_uri": "https://localhost:8080/",
          "height": 295
        }
      },
      "source": [
        "# Plotting Accuracy vs Epoch\n",
        "\n",
        "plt.close()\n",
        "plt.plot(History.history['acc'],'b',label=\"Training Accuracy\")\n",
        "plt.plot(History.history['val_acc'],'r',label=\"Validation Accuracy\")\n",
        "plt.title(\"Accuracy vs Epoch\")\n",
        "plt.xlabel(\"Epochs\")\n",
        "plt.ylabel(\"Accuracy\")\n",
        "plt.legend()\n",
        "plt.grid()\n",
        "plt.show()"
      ],
      "execution_count": 25,
      "outputs": [
        {
          "output_type": "display_data",
          "data": {
            "image/png": "[encoded data removed]",
            "text/plain": [
              "<Figure size 432x288 with 1 Axes>"
            ]
          },
          "metadata": {
            "tags": []
          }
        }
      ]
    },
    {
      "cell_type": "code",
      "metadata": {
        "colab_type": "code",
        "outputId": "0f2483b6-3b41-4f5e-9f66-0fae04e86305",
        "id": "nblZexgXQ4_5",
        "colab": {
          "base_uri": "https://localhost:8080/",
          "height": 190
        }
      },
      "source": [
        "# References\n",
        "# https://stackoverflow.com/questions/43715047/keras-2-x-get-weights-of-layer\n",
        "\n",
        "\n",
        "for layer in model.layers:\n",
        "  print(layer.get_config())"
      ],
      "execution_count": 26,
      "outputs": [
        {
          "output_type": "stream",
          "text": [
            "{'name': 'conv2d_7', 'trainable': True, 'batch_input_shape': (None, 28, 28, 1), 'dtype': 'float32', 'filters': 32, 'kernel_size': (3, 3), 'strides': (1, 1), 'padding': 'valid', 'data_format': 'channels_last', 'dilation_rate': (1, 1), 'activation': 'relu', 'use_bias': True, 'kernel_initializer': {'class_name': 'VarianceScaling', 'config': {'scale': 1.0, 'mode': 'fan_avg', 'distribution': 'normal', 'seed': None}}, 'bias_initializer': {'class_name': 'Zeros', 'config': {}}, 'kernel_regularizer': None, 'bias_regularizer': None, 'activity_regularizer': None, 'kernel_constraint': None, 'bias_constraint': None}\n",
            "{'name': 'conv2d_8', 'trainable': True, 'filters': 64, 'kernel_size': (3, 3), 'strides': (1, 1), 'padding': 'valid', 'data_format': 'channels_last', 'dilation_rate': (1, 1), 'activation': 'relu', 'use_bias': True, 'kernel_initializer': {'class_name': 'VarianceScaling', 'config': {'scale': 1.0, 'mode': 'fan_avg', 'distribution': 'normal', 'seed': None}}, 'bias_initializer': {'class_name': 'Zeros', 'config': {}}, 'kernel_regularizer': None, 'bias_regularizer': None, 'activity_regularizer': None, 'kernel_constraint': None, 'bias_constraint': None}\n",
            "{'name': 'conv2d_9', 'trainable': True, 'filters': 96, 'kernel_size': (3, 3), 'strides': (1, 1), 'padding': 'valid', 'data_format': 'channels_last', 'dilation_rate': (1, 1), 'activation': 'relu', 'use_bias': True, 'kernel_initializer': {'class_name': 'VarianceScaling', 'config': {'scale': 1.0, 'mode': 'fan_avg', 'distribution': 'normal', 'seed': None}}, 'bias_initializer': {'class_name': 'Zeros', 'config': {}}, 'kernel_regularizer': None, 'bias_regularizer': None, 'activity_regularizer': None, 'kernel_constraint': None, 'bias_constraint': None}\n",
            "{'name': 'max_pooling2d_3', 'trainable': True, 'pool_size': (2, 2), 'padding': 'valid', 'strides': (2, 2), 'data_format': 'channels_last'}\n",
            "{'name': 'flatten_3', 'trainable': True, 'data_format': 'channels_last'}\n",
            "{'name': 'dropout_1', 'trainable': True, 'rate': 0.5, 'noise_shape': None, 'seed': None}\n",
            "{'name': 'dense_5', 'trainable': True, 'units': 128, 'activation': 'relu', 'use_bias': True, 'kernel_initializer': {'class_name': 'VarianceScaling', 'config': {'scale': 1.0, 'mode': 'fan_avg', 'distribution': 'normal', 'seed': None}}, 'bias_initializer': {'class_name': 'Zeros', 'config': {}}, 'kernel_regularizer': None, 'bias_regularizer': None, 'activity_regularizer': None, 'kernel_constraint': None, 'bias_constraint': None}\n",
            "{'name': 'dropout_2', 'trainable': True, 'rate': 0.5, 'noise_shape': None, 'seed': None}\n",
            "{'name': 'dense_6', 'trainable': True, 'units': 10, 'activation': 'softmax', 'use_bias': True, 'kernel_initializer': {'class_name': 'VarianceScaling', 'config': {'scale': 1.0, 'mode': 'fan_avg', 'distribution': 'normal', 'seed': None}}, 'bias_initializer': {'class_name': 'Zeros', 'config': {}}, 'kernel_regularizer': None, 'bias_regularizer': None, 'activity_regularizer': None, 'kernel_constraint': None, 'bias_constraint': None}\n"
          ],
          "name": "stdout"
        }
      ]
    },
    {
      "cell_type": "code",
      "metadata": {
        "colab_type": "code",
        "outputId": "0e95944d-1a96-4842-ec53-d12b0cb0175e",
        "id": "QM0qaDHgQ4_-",
        "colab": {
          "base_uri": "https://localhost:8080/",
          "height": 272
        }
      },
      "source": [
        "# References\n",
        "# https://stackoverflow.com/questions/43715047/keras-2-x-get-weights-of-layer\n",
        "\n",
        "layer1_weights = model.layers[0].get_weights()[0]\n",
        "layer2_weights = model.layers[1].get_weights()[0]\n",
        "layer3_weights = model.layers[2].get_weights()[0]\n",
        "layer4_weights = model.layers[6].get_weights()[0]\n",
        "output_weights = model.layers[8].get_weights()[0]\n",
        "\n",
        "print(\" Conv Layer One Weight Matrix Shape\")\n",
        "print(\"=\"*125)\n",
        "print(layer1_weights.shape)\n",
        "print(\" Conv Layer Two Weight Matrix Shape\")\n",
        "print(\"=\"*125)\n",
        "print(layer2_weights.shape)\n",
        "print(\" Conv Layer Three Weight Matrix Shape\")\n",
        "print(\"=\"*125)\n",
        "print(layer3_weights.shape)\n",
        "print(\" Dense Layer One Weight Matrix Shape\")\n",
        "print(\"=\"*125)\n",
        "print(layer4_weights.shape)\n",
        "print(\" Output Layer Weight Matrix Shape\")\n",
        "print(\"=\"*125)\n",
        "print(output_weights.shape)"
      ],
      "execution_count": 27,
      "outputs": [
        {
          "output_type": "stream",
          "text": [
            " Conv Layer One Weight Matrix Shape\n",
            "=============================================================================================================================\n",
            "(3, 3, 1, 32)\n",
            " Conv Layer Two Weight Matrix Shape\n",
            "=============================================================================================================================\n",
            "(3, 3, 32, 64)\n",
            " Conv Layer Three Weight Matrix Shape\n",
            "=============================================================================================================================\n",
            "(3, 3, 64, 96)\n",
            " Dense Layer One Weight Matrix Shape\n",
            "=============================================================================================================================\n",
            "(11616, 128)\n",
            " Output Layer Weight Matrix Shape\n",
            "=============================================================================================================================\n",
            "(128, 10)\n"
          ],
          "name": "stdout"
        }
      ]
    },
    {
      "cell_type": "code",
      "metadata": {
        "colab_type": "code",
        "outputId": "38234203-e3c8-4bf9-be6b-2323c9d63a6c",
        "id": "66q6pRpeQ5AD",
        "colab": {
          "base_uri": "https://localhost:8080/",
          "height": 671
        }
      },
      "source": [
        "# References \n",
        "# https://seaborn.pydata.org/generated/seaborn.violinplot.html\n",
        "# https://matplotlib.org/api/_as_gen/matplotlib.pyplot.subplot.html\n",
        "\n",
        "fig = plt.figure(1,figsize=(7,7))\n",
        "fig.suptitle(\"Weight Matrix\")\n",
        "plt.subplot(1, 3, 1)\n",
        "plt.title(\"Conv Layer One\")\n",
        "sns.violinplot(y=layer1_weights,color='r')\n",
        "plt.grid()\n",
        "\n",
        "plt.subplot(1,3,2)\n",
        "plt.title(\"Conv Layer Two\")\n",
        "sns.violinplot(y=layer2_weights,color='g')\n",
        "plt.grid()\n",
        "\n",
        "plt.subplot(1,3,3)\n",
        "plt.title(\"Conv Layer Three\")\n",
        "sns.violinplot(y=layer3_weights,color='b')\n",
        "plt.grid()\n",
        "\n",
        "fig = plt.figure(2,figsize=(7,7))\n",
        "\n",
        "plt.subplot(2,2,1)\n",
        "plt.title(\"Dense Layer One\")\n",
        "sns.violinplot(y=layer4_weights,color='r')\n",
        "plt.grid()\n",
        "\n",
        "plt.subplot(2,2,2)\n",
        "plt.title(\"Output Layer\")\n",
        "sns.violinplot(y=output_weights,color='b')\n",
        "plt.grid()"
      ],
      "execution_count": 28,
      "outputs": [
        {
          "output_type": "display_data",
          "data": {
            "image/png": "[encoded data removed]",
            "text/plain": [
              "<Figure size 504x504 with 3 Axes>"
            ]
          },
          "metadata": {
            "tags": []
          }
        },
        {
          "output_type": "display_data",
          "data": {
            "image/png": "[encoded data removed]",
            "text/plain": [
              "<Figure size 504x504 with 2 Axes>"
            ]
          },
          "metadata": {
            "tags": []
          }
        }
      ]
    },
    {
      "cell_type": "markdown",
      "metadata": {
        "colab_type": "text",
        "id": "J51joz2CQ5AJ"
      },
      "source": [
        " **Observation:**\n",
        "                                          The weights are not too large and not too small. The weights are normally distributed."
      ]
    },
    {
      "cell_type": "markdown",
      "metadata": {
        "colab_type": "text",
        "id": "ybif3o49Q5AL"
      },
      "source": [
        "#### 4.4.3 **Model Evaluation:**"
      ]
    },
    {
      "cell_type": "code",
      "metadata": {
        "colab_type": "code",
        "id": "cIcbIrlsQ5AN",
        "colab": {}
      },
      "source": [
        "# Refernces\n",
        "# https://keras.io/models/model/#evaluate\n",
        "\n",
        "evaluate_data=model.evaluate(X_test,Y_test,verbose=0)"
      ],
      "execution_count": 0,
      "outputs": []
    },
    {
      "cell_type": "code",
      "metadata": {
        "colab_type": "code",
        "outputId": "adb0816c-2951-4bab-aabb-ecbfa99ffa23",
        "id": "Ve2_8i82Q5AS",
        "colab": {
          "base_uri": "https://localhost:8080/",
          "height": 119
        }
      },
      "source": [
        "evaluate_loss = evaluate_data[0]\n",
        "evaluate_acc  = evaluate_data[1]\n",
        "\n",
        "print(\" Evaluate Loss\")\n",
        "print(\"=\"*100)\n",
        "print(evaluate_loss)\n",
        "\n",
        "print(\" Evaluate Accuracy\")\n",
        "print(\"=\"*100)\n",
        "print(evaluate_acc)"
      ],
      "execution_count": 30,
      "outputs": [
        {
          "output_type": "stream",
          "text": [
            " Evaluate Loss\n",
            "====================================================================================================\n",
            "0.03234234300716998\n",
            " Evaluate Accuracy\n",
            "====================================================================================================\n",
            "0.9901\n"
          ],
          "name": "stdout"
        }
      ]
    },
    {
      "cell_type": "markdown",
      "metadata": {
        "colab_type": "text",
        "id": "12bozS6lQ5AY"
      },
      "source": [
        "#### 4.4.4 **Model Predict:**"
      ]
    },
    {
      "cell_type": "code",
      "metadata": {
        "colab_type": "code",
        "outputId": "03935aee-bc3b-4b05-e4fd-25f04fdb7faf",
        "id": "oniaVDndQ5Aa",
        "colab": {
          "base_uri": "https://localhost:8080/",
          "height": 34
        }
      },
      "source": [
        "# References\n",
        "# https://towardsdatascience.com/image-classification-in-10-minutes-with-mnist-dataset-54c35b77a38d\n",
        "# https://keras.io/models/model/#predict\n",
        "\n",
        "test_data=X_test[500].reshape(1,28,28,1)\n",
        "test_data.shape"
      ],
      "execution_count": 31,
      "outputs": [
        {
          "output_type": "execute_result",
          "data": {
            "text/plain": [
              "(1, 28, 28, 1)"
            ]
          },
          "metadata": {
            "tags": []
          },
          "execution_count": 31
        }
      ]
    },
    {
      "cell_type": "code",
      "metadata": {
        "colab_type": "code",
        "id": "n3FLN2RnQ5Aj",
        "colab": {}
      },
      "source": [
        "pred_label = model.predict(test_data)"
      ],
      "execution_count": 0,
      "outputs": []
    },
    {
      "cell_type": "code",
      "metadata": {
        "colab_type": "code",
        "outputId": "96c7f95e-56af-45b7-c992-5ba057f785df",
        "id": "Bhh9-jJIQ5Am",
        "colab": {
          "base_uri": "https://localhost:8080/",
          "height": 119
        }
      },
      "source": [
        "print(\"The Actual Label of the predicted data\")\n",
        "print(\"=\"*100)\n",
        "print(Y_test[500].argmax())\n",
        "print(\"The Predicted Label of the predicted data\")\n",
        "print(\"=\"*100)\n",
        "print(pred_label.argmax())"
      ],
      "execution_count": 33,
      "outputs": [
        {
          "output_type": "stream",
          "text": [
            "The Actual Label of the predicted data\n",
            "====================================================================================================\n",
            "3\n",
            "The Predicted Label of the predicted data\n",
            "====================================================================================================\n",
            "3\n"
          ],
          "name": "stdout"
        }
      ]
    },
    {
      "cell_type": "markdown",
      "metadata": {
        "colab_type": "text",
        "id": "L761VHwhQ5Aw"
      },
      "source": [
        "#### 4.4.5 **Observation:**"
      ]
    },
    {
      "cell_type": "code",
      "metadata": {
        "colab_type": "code",
        "id": "7klrv24yQ5Ay",
        "colab": {}
      },
      "source": [
        "from prettytable import PrettyTable"
      ],
      "execution_count": 0,
      "outputs": []
    },
    {
      "cell_type": "code",
      "metadata": {
        "colab_type": "code",
        "outputId": "8331c99e-71e0-4e7f-8ae3-ba3a5f116d37",
        "id": "VYuTknhHQ5A1",
        "colab": {
          "base_uri": "https://localhost:8080/",
          "height": 187
        }
      },
      "source": [
        "\n",
        "a=PrettyTable()\n",
        "b=PrettyTable()\n",
        "b.field_names = [\"Initialization\",\"Optimizer\",\"Dropout rate\",\"Batch Size\",\"Epochs\"]\n",
        "b.add_row([\"Xavier/Glorot\",\"Adam\",\"Nil\",200,10])\n",
        "a.field_names = [\"Conv Layer\",\"Kernel Size\",\"Train loss\",\"Val_loss\",\"Test_loss\",\"Train_acc\",\"Val_acc\",\"Test_acc\"]\n",
        "a.add_row([3,\"3x3\",0.0321,0.0386,0.0323,0.9899,0.9897,0.9901])\n",
        "print(b)\n",
        "print(a)\n"
      ],
      "execution_count": 35,
      "outputs": [
        {
          "output_type": "stream",
          "text": [
            "+----------------+-----------+--------------+------------+--------+\n",
            "| Initialization | Optimizer | Dropout rate | Batch Size | Epochs |\n",
            "+----------------+-----------+--------------+------------+--------+\n",
            "| Xavier/Glorot  |    Adam   |     Nil      |    200     |   10   |\n",
            "+----------------+-----------+--------------+------------+--------+\n",
            "+------------+-------------+------------+----------+-----------+-----------+---------+----------+\n",
            "| Conv Layer | Kernel Size | Train loss | Val_loss | Test_loss | Train_acc | Val_acc | Test_acc |\n",
            "+------------+-------------+------------+----------+-----------+-----------+---------+----------+\n",
            "|     3      |     3x3     |   0.0321   |  0.0386  |   0.0323  |   0.9899  |  0.9897 |  0.9901  |\n",
            "+------------+-------------+------------+----------+-----------+-----------+---------+----------+\n"
          ],
          "name": "stdout"
        }
      ]
    },
    {
      "cell_type": "markdown",
      "metadata": {
        "id": "tYAQwxARqhAQ",
        "colab_type": "text"
      },
      "source": [
        "## 5. Conclusion:"
      ]
    },
    {
      "cell_type": "code",
      "metadata": {
        "id": "zIBBWr01p6gB",
        "colab_type": "code",
        "outputId": "744a3bae-7b7b-42c2-a3db-54fb63a7818d",
        "colab": {
          "base_uri": "https://localhost:8080/",
          "height": 306
        }
      },
      "source": [
        "a=PrettyTable()\n",
        "b=PrettyTable()\n",
        "b.field_names = [\"Initialization\",\"Optimizer\",\"Dropout rate\",\"Batch Size\",\"Epochs\"]\n",
        "b.add_row([\"Xavier/Glorot\",\"Adam\",\"Nil\",200,10])\n",
        "a.field_names = [\"Conv Layer\",\"Kernel Size\",\"Train loss\",\"Val_loss\",\"Test_loss\",\"Train_acc\",\"Val_acc\",\"Test_acc\"]\n",
        "a.add_row([\"3 with alternate maxpool\",\"3x3\",0.0298,0.0490 ,0.0468,0.9902,0.9858,0.9863])\n",
        "a.add_row([\"5 with alternate maxpool\",\"5x5\",0.0135,0.0430 ,0.0278,0.9958,0.9901,0.9921])\n",
        "a.add_row([\"7 with alternate maxpool\",\"2x2\",0.0270,0.0394 ,0.0327,0.9908,0.9882,0.9893])\n",
        "a.add_row([\"3 without alternate maxpool\",\"3x3\",0.0321,0.0386,0.0323,0.9899,0.9897,0.9901])\n",
        "print(\"The common factors for all architecture\")\n",
        "print(\"=\"*100)\n",
        "print(b)\n",
        "print(\"Architecture loss and accuracy comparision\")\n",
        "print(\"=\"*100)\n",
        "print(a)"
      ],
      "execution_count": 36,
      "outputs": [
        {
          "output_type": "stream",
          "text": [
            "The common factors for all architecture\n",
            "====================================================================================================\n",
            "+----------------+-----------+--------------+------------+--------+\n",
            "| Initialization | Optimizer | Dropout rate | Batch Size | Epochs |\n",
            "+----------------+-----------+--------------+------------+--------+\n",
            "| Xavier/Glorot  |    Adam   |     Nil      |    200     |   10   |\n",
            "+----------------+-----------+--------------+------------+--------+\n",
            "Architecture loss and accuracy comparision\n",
            "====================================================================================================\n",
            "+-----------------------------+-------------+------------+----------+-----------+-----------+---------+----------+\n",
            "|          Conv Layer         | Kernel Size | Train loss | Val_loss | Test_loss | Train_acc | Val_acc | Test_acc |\n",
            "+-----------------------------+-------------+------------+----------+-----------+-----------+---------+----------+\n",
            "|   3 with alternate maxpool  |     3x3     |   0.0298   |  0.049   |   0.0468  |   0.9902  |  0.9858 |  0.9863  |\n",
            "|   5 with alternate maxpool  |     5x5     |   0.0135   |  0.043   |   0.0278  |   0.9958  |  0.9901 |  0.9921  |\n",
            "|   7 with alternate maxpool  |     2x2     |   0.027    |  0.0394  |   0.0327  |   0.9908  |  0.9882 |  0.9893  |\n",
            "| 3 without alternate maxpool |     3x3     |   0.0321   |  0.0386  |   0.0323  |   0.9899  |  0.9897 |  0.9901  |\n",
            "+-----------------------------+-------------+------------+----------+-----------+-----------+---------+----------+\n"
          ],
          "name": "stdout"
        }
      ]
    },
    {
      "cell_type": "markdown",
      "metadata": {
        "id": "GQqpHnxOrTPG",
        "colab_type": "text"
      },
      "source": [
        "**Data Preparation:**\n",
        "\n",
        "    The Minist Data was gathered by using Keras library and it was splitted into Train and Test data.The train and Test data have (28,28) dimension. So the (28,28) has been converted into (28,28,1). And the 10 class labeled data was converted into categorical labeled data using One Hot Encoding."
      ]
    },
    {
      "cell_type": "markdown",
      "metadata": {
        "id": "6pkMRGprrWk_",
        "colab_type": "text"
      },
      "source": [
        "**Data Normalization:**\n",
        "\n",
        "    Before the data's are going into the model, the data's are Normalized using Data Normalization formula."
      ]
    },
    {
      "cell_type": "markdown",
      "metadata": {
        "id": "2FcW1OAprjaZ",
        "colab_type": "text"
      },
      "source": [
        "**Deep CNN:**\n",
        "\n",
        "    The Different architectures (3 ConvNet layers with 3x3 filter size, 5 ConvNet layer with 5x5 filter size, 7 ConvNet layers with 2x2 filter size) has been  implemented.The Xavier Initialization was implemented for this assignment."
      ]
    },
    {
      "cell_type": "markdown",
      "metadata": {
        "id": "FwHK3yWusBot",
        "colab_type": "text"
      },
      "source": [
        "**Loss vs Epoch plot:**\n",
        "\n",
        "    Loss(Train and Validation) vs Epoch graph has been plotted sucessfully for each of the Architecture."
      ]
    },
    {
      "cell_type": "markdown",
      "metadata": {
        "id": "F1LtF1UWsE89",
        "colab_type": "text"
      },
      "source": [
        "**Weight Plot:**\n",
        "\n",
        "    Weight (Weight matrix got After the Optimization) graph has been plotted sucessfully for each of the Architecture."
      ]
    }
  ]
}